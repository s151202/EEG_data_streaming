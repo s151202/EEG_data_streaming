{
 "cells": [
  {
   "cell_type": "markdown",
   "metadata": {},
   "source": [
    "# Read the last n lines of csv"
   ]
  },
  {
   "cell_type": "code",
   "execution_count": 1,
   "metadata": {
    "scrolled": true
   },
   "outputs": [],
   "source": [
    "import pandas as pd\n",
    "import numpy as np\n",
    "\n",
    "#set csv file path\n",
    "csv_path = 'D:\\\\openvibe-2.2.0-64bit\\\\record-[test].csv'\n",
    "\n",
    "#read in the total number of lines in the csv file\n",
    "with open(csv_path) as f:\n",
    "    num_line = sum(1 for line in f)\n",
    "\n",
    "#load the last n lines of the csv file (skipping the first num_line - n lines)\n",
    "n = 10\n",
    "rows = pd.read_csv(csv_path, header = None, skiprows=num_line-n)\n",
    "\n",
    "#header\n",
    "header_names = pd.read_csv(csv_path, header = None, nrows=1)\n",
    "\n",
    "#turn panda csv to numpy arrays\n",
    "data = (rows.get_values())\n",
    "eeg = data[:,2:-3]\n",
    "timestamp = data[:,0]\n",
    "\n"
   ]
  },
  {
   "cell_type": "code",
   "execution_count": 4,
   "metadata": {},
   "outputs": [],
   "source": [
    "def collect_signal(csv_path, n_load):\n",
    "    \n",
    "    \"\"\"\n",
    "    read the last n_load lines of the signal(eeg) which is saved in a csv file\n",
    "    open csv file whose path is csv_path\n",
    "    take the last n_load lines of the csv file.\n",
    "    \n",
    "    INPUT:\n",
    "        csv_path: file path to the csv file (signal file). string.\n",
    "        n_load: number of lines from the end of the csv file to read. int.\n",
    "    RETURN:\n",
    "        data: the last n_load lines of the signal in the csv file. numpy array\n",
    "    \"\"\"\n",
    "    #read in the total number of lines in the csv file\n",
    "    with open(csv_path) as f:\n",
    "        num_line = sum(1 for line in f)\n",
    "        \n",
    "    #load the last n lines of the csv file (skipping the first num_line - n lines)\n",
    "    rows = pd.read_csv(csv_path, header = None, skiprows=num_line-n_load)\n",
    "    \n",
    "    #header\n",
    "    header_names = pd.read_csv(csv_path, header = None, nrows=1)\n",
    "\n",
    "    #turn panda csv to numpy arrays\n",
    "    data = (rows.get_values())\n",
    "    \n",
    "    return data"
   ]
  },
  {
   "cell_type": "markdown",
   "metadata": {},
   "source": [
    "# Clock"
   ]
  },
  {
   "cell_type": "code",
   "execution_count": 270,
   "metadata": {},
   "outputs": [
    {
     "name": "stdout",
     "output_type": "stream",
     "text": [
      "-0.000297\n",
      "2019-10-04 22:54:41.969260\n",
      "-0.000295\n",
      "2019-10-04 22:54:42.469262\n",
      "-0.000408\n",
      "2019-10-04 22:54:42.969149\n",
      "-0.000531\n",
      "2019-10-04 22:54:43.469026\n",
      "-0.000607\n",
      "2019-10-04 22:54:43.968950\n",
      "-0.000844\n",
      "2019-10-04 22:54:44.468713\n",
      "-7.1e-05\n",
      "2019-10-04 22:54:44.969486\n",
      "-0.000305\n",
      "2019-10-04 22:54:45.469252\n",
      "-0.000365\n",
      "2019-10-04 22:54:45.969192\n",
      "-0.00094\n",
      "2019-10-04 22:54:46.468617\n",
      "-0.000551\n",
      "2019-10-04 22:54:46.969006\n",
      "-0.000882\n",
      "2019-10-04 22:54:47.468675\n",
      "-0.000219\n",
      "2019-10-04 22:54:47.969338\n",
      "-0.000975\n",
      "2019-10-04 22:54:48.468582\n",
      "-0.000766\n",
      "2019-10-04 22:54:48.968791\n",
      "-9.4e-05\n",
      "2019-10-04 22:54:49.469463\n",
      "-0.000426\n",
      "2019-10-04 22:54:49.969131\n",
      "-0.000766\n",
      "2019-10-04 22:54:50.468791\n",
      "-0.000105\n",
      "2019-10-04 22:54:50.969452\n",
      "-0.000464\n",
      "2019-10-04 22:54:51.469093\n",
      "-0.000772\n",
      "2019-10-04 22:54:51.968785\n",
      "-8.9e-05\n",
      "2019-10-04 22:54:52.469468\n",
      "-0.000448\n",
      "2019-10-04 22:54:52.969109\n",
      "-0.000174\n",
      "2019-10-04 22:54:53.469383\n",
      "-0.000944\n",
      "2019-10-04 22:54:53.968613\n",
      "-0.000288\n",
      "2019-10-04 22:54:54.469269\n",
      "-0.000401\n",
      "2019-10-04 22:54:54.969156\n",
      "-0.000121\n",
      "2019-10-04 22:54:55.469436\n",
      "-0.000458\n",
      "2019-10-04 22:54:55.969099\n",
      "-0.000794\n",
      "2019-10-04 22:54:56.468763\n",
      "-0.000131\n",
      "2019-10-04 22:54:56.969426\n"
     ]
    },
    {
     "ename": "KeyboardInterrupt",
     "evalue": "",
     "output_type": "error",
     "traceback": [
      "\u001b[1;31m---------------------------------------------------------------------------\u001b[0m",
      "\u001b[1;31mKeyboardInterrupt\u001b[0m                         Traceback (most recent call last)",
      "\u001b[1;32m<ipython-input-270-20ca679472ab>\u001b[0m in \u001b[0;36m<module>\u001b[1;34m\u001b[0m\n\u001b[0;32m     16\u001b[0m \u001b[1;32mwhile\u001b[0m \u001b[0mkeep_running\u001b[0m \u001b[1;33m==\u001b[0m \u001b[1;36m1\u001b[0m\u001b[1;33m:\u001b[0m\u001b[1;33m\u001b[0m\u001b[1;33m\u001b[0m\u001b[0m\n\u001b[0;32m     17\u001b[0m \u001b[1;33m\u001b[0m\u001b[0m\n\u001b[1;32m---> 18\u001b[1;33m     \u001b[0md\u001b[0m \u001b[1;33m=\u001b[0m \u001b[1;33m(\u001b[0m\u001b[0mdatetime\u001b[0m\u001b[1;33m.\u001b[0m\u001b[0mnow\u001b[0m\u001b[1;33m(\u001b[0m\u001b[1;33m)\u001b[0m \u001b[1;33m-\u001b[0m \u001b[0mt1\u001b[0m\u001b[1;33m)\u001b[0m\u001b[1;33m.\u001b[0m\u001b[0mtotal_seconds\u001b[0m\u001b[1;33m(\u001b[0m\u001b[1;33m)\u001b[0m\u001b[1;33m\u001b[0m\u001b[1;33m\u001b[0m\u001b[0m\n\u001b[0m\u001b[0;32m     19\u001b[0m     \u001b[1;32mif\u001b[0m \u001b[0mabs\u001b[0m\u001b[1;33m(\u001b[0m\u001b[0md\u001b[0m\u001b[1;33m)\u001b[0m \u001b[1;33m<=\u001b[0m \u001b[1;36m1\u001b[0m\u001b[1;33m/\u001b[0m\u001b[0mfs\u001b[0m\u001b[1;33m/\u001b[0m\u001b[1;36m2\u001b[0m \u001b[1;32mor\u001b[0m \u001b[0md\u001b[0m\u001b[1;33m>=\u001b[0m\u001b[1;36m1\u001b[0m\u001b[1;33m/\u001b[0m\u001b[0mfs\u001b[0m\u001b[1;33m/\u001b[0m\u001b[1;36m2\u001b[0m\u001b[1;33m:\u001b[0m\u001b[1;33m\u001b[0m\u001b[1;33m\u001b[0m\u001b[0m\n\u001b[0;32m     20\u001b[0m         \u001b[0mprint\u001b[0m\u001b[1;33m(\u001b[0m\u001b[0md\u001b[0m\u001b[1;33m)\u001b[0m\u001b[1;33m\u001b[0m\u001b[1;33m\u001b[0m\u001b[0m\n",
      "\u001b[1;31mKeyboardInterrupt\u001b[0m: "
     ]
    }
   ],
   "source": [
    "from datetime import datetime\n",
    "from datetime import timedelta\n",
    "\n",
    "#sampling frequency of eeg machine\n",
    "fs = 512\n",
    "#collect eeg data every stride seconds\n",
    "stride = 0.5 #seconds\n",
    "t_delta = timedelta(microseconds = stride*1000000)\n",
    "\n",
    "keep_running = 1\n",
    "\n",
    "#t0 is time at the previous eeg collection\n",
    "t0 = datetime.now() # (eeg collected is from winlen seconds previous of t0 to t0)\n",
    "t1 = t0 + t_delta #next eeg collection time \n",
    "\n",
    "while keep_running == 1:\n",
    "   \n",
    "    d = (datetime.now() - t1).total_seconds() #time between next eeg collection mark and now\n",
    "    if abs(d) <= 1/fs/2 or d>=1/fs/2:\n",
    "        print(d)\n",
    "        #update t0, t1\n",
    "        t0 = t1\n",
    "        t1 = t0 + t_delta\n",
    "        print (datetime.now())"
   ]
  },
  {
   "cell_type": "code",
   "execution_count": null,
   "metadata": {},
   "outputs": [],
   "source": []
  }
 ],
 "metadata": {
  "kernelspec": {
   "display_name": "Python 3",
   "language": "python",
   "name": "python3"
  },
  "language_info": {
   "codemirror_mode": {
    "name": "ipython",
    "version": 3
   },
   "file_extension": ".py",
   "mimetype": "text/x-python",
   "name": "python",
   "nbconvert_exporter": "python",
   "pygments_lexer": "ipython3",
   "version": "3.7.1"
  }
 },
 "nbformat": 4,
 "nbformat_minor": 2
}
