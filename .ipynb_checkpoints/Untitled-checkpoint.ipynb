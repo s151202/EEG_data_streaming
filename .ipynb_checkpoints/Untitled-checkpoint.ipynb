{
 "cells": [
  {
   "cell_type": "markdown",
   "metadata": {},
   "source": [
    "# Read the last n lines of csv"
   ]
  },
  {
   "cell_type": "code",
   "execution_count": 1,
   "metadata": {
    "scrolled": true
   },
   "outputs": [],
   "source": [
    "import pandas as pd\n",
    "import numpy as np\n",
    "\n",
    "#set csv file path\n",
    "csv_path = 'D:\\\\openvibe-2.2.0-64bit\\\\record-[test].csv'\n",
    "\n",
    "#read in the total number of lines in the csv file\n",
    "with open(csv_path) as f:\n",
    "    num_line = sum(1 for line in f)\n",
    "\n",
    "#load the last n lines of the csv file (skipping the first num_line - n lines)\n",
    "n = 10\n",
    "rows = pd.read_csv(csv_path, header = None, skiprows=num_line-n)\n",
    "\n",
    "#header\n",
    "header_names = pd.read_csv(csv_path, header = None, nrows=1)\n",
    "\n",
    "#turn panda csv to numpy arrays\n",
    "data = (rows.get_values())\n",
    "eeg = data[:,2:-3]\n",
    "timestamp = data[:,0]\n",
    "\n"
   ]
  },
  {
   "cell_type": "code",
   "execution_count": 4,
   "metadata": {},
   "outputs": [],
   "source": [
    "def collect_signal(csv_path, n_load):\n",
    "    \n",
    "    \"\"\"\n",
    "    read the last n_load lines of the signal(eeg) which is saved in a csv file\n",
    "    open csv file whose path is csv_path\n",
    "    take the last n_load lines of the csv file.\n",
    "    \n",
    "    INPUT:\n",
    "        csv_path: file path to the csv file (signal file). string.\n",
    "        n_load: number of lines from the end of the csv file to read. int.\n",
    "    RETURN:\n",
    "        data: the last n_load lines of the signal in the csv file. numpy array\n",
    "    \"\"\"\n",
    "    #read in the total number of lines in the csv file\n",
    "    with open(csv_path) as f:\n",
    "        num_line = sum(1 for line in f)\n",
    "        \n",
    "    #load the last n lines of the csv file (skipping the first num_line - n lines)\n",
    "    rows = pd.read_csv(csv_path, header = None, skiprows=num_line-n_load)\n",
    "    \n",
    "    #header\n",
    "    header_names = pd.read_csv(csv_path, header = None, nrows=1)\n",
    "\n",
    "    #turn panda csv to numpy arrays\n",
    "    data = (rows.get_values())\n",
    "    \n",
    "    return data"
   ]
  },
  {
   "cell_type": "markdown",
   "metadata": {},
   "source": [
    "# Clock"
   ]
  },
  {
   "cell_type": "code",
   "execution_count": 17,
   "metadata": {},
   "outputs": [
    {
     "name": "stdout",
     "output_type": "stream",
     "text": [
      "6e-06\n",
      "2019-10-06 15:13:43.048090\n",
      "[2.76054688e+01 4.41000000e+02 4.73038062e+05 4.70198688e+05\n",
      " 4.72847031e+05 4.70984312e+05 4.73362375e+05 4.74831281e+05\n",
      " 4.73301875e+05 4.74254500e+05 7.66973572e+01 4.74527500e+05\n",
      " 4.73851906e+05 4.72449344e+05 4.61198875e+05 4.59856500e+05\n",
      " 4.60809156e+05 4.61697594e+05            nan            nan\n",
      "            nan]\n",
      "-0.00031\n",
      "2019-10-06 15:13:43.547774\n",
      "[2.76054688e+01 4.41000000e+02 4.73038062e+05 4.70198688e+05\n",
      " 4.72847031e+05 4.70984312e+05 4.73362375e+05 4.74831281e+05\n",
      " 4.73301875e+05 4.74254500e+05 7.66973572e+01 4.74527500e+05\n",
      " 4.73851906e+05 4.72449344e+05 4.61198875e+05 4.59856500e+05\n",
      " 4.60809156e+05 4.61697594e+05            nan            nan\n",
      "            nan]\n",
      "-0.000646\n",
      "2019-10-06 15:13:44.047438\n",
      "[2.76054688e+01 4.41000000e+02 4.73038062e+05 4.70198688e+05\n",
      " 4.72847031e+05 4.70984312e+05 4.73362375e+05 4.74831281e+05\n",
      " 4.73301875e+05 4.74254500e+05 7.66973572e+01 4.74527500e+05\n",
      " 4.73851906e+05 4.72449344e+05 4.61198875e+05 4.59856500e+05\n",
      " 4.60809156e+05 4.61697594e+05            nan            nan\n",
      "            nan]\n",
      "-0.000274\n",
      "2019-10-06 15:13:44.547810\n",
      "[2.76054688e+01 4.41000000e+02 4.73038062e+05 4.70198688e+05\n",
      " 4.72847031e+05 4.70984312e+05 4.73362375e+05 4.74831281e+05\n",
      " 4.73301875e+05 4.74254500e+05 7.66973572e+01 4.74527500e+05\n",
      " 4.73851906e+05 4.72449344e+05 4.61198875e+05 4.59856500e+05\n",
      " 4.60809156e+05 4.61697594e+05            nan            nan\n",
      "            nan]\n",
      "-0.00061\n",
      "2019-10-06 15:13:45.047474\n",
      "[2.76054688e+01 4.41000000e+02 4.73038062e+05 4.70198688e+05\n",
      " 4.72847031e+05 4.70984312e+05 4.73362375e+05 4.74831281e+05\n",
      " 4.73301875e+05 4.74254500e+05 7.66973572e+01 4.74527500e+05\n",
      " 4.73851906e+05 4.72449344e+05 4.61198875e+05 4.59856500e+05\n",
      " 4.60809156e+05 4.61697594e+05            nan            nan\n",
      "            nan]\n",
      "-0.000944\n",
      "2019-10-06 15:13:45.547140\n",
      "[2.76054688e+01 4.41000000e+02 4.73038062e+05 4.70198688e+05\n",
      " 4.72847031e+05 4.70984312e+05 4.73362375e+05 4.74831281e+05\n",
      " 4.73301875e+05 4.74254500e+05 7.66973572e+01 4.74527500e+05\n",
      " 4.73851906e+05 4.72449344e+05 4.61198875e+05 4.59856500e+05\n",
      " 4.60809156e+05 4.61697594e+05            nan            nan\n",
      "            nan]\n",
      "-0.000293\n",
      "2019-10-06 15:13:46.047791\n",
      "[2.76054688e+01 4.41000000e+02 4.73038062e+05 4.70198688e+05\n",
      " 4.72847031e+05 4.70984312e+05 4.73362375e+05 4.74831281e+05\n",
      " 4.73301875e+05 4.74254500e+05 7.66973572e+01 4.74527500e+05\n",
      " 4.73851906e+05 4.72449344e+05 4.61198875e+05 4.59856500e+05\n",
      " 4.60809156e+05 4.61697594e+05            nan            nan\n",
      "            nan]\n",
      "-0.000619\n",
      "2019-10-06 15:13:46.547465\n",
      "[2.76054688e+01 4.41000000e+02 4.73038062e+05 4.70198688e+05\n",
      " 4.72847031e+05 4.70984312e+05 4.73362375e+05 4.74831281e+05\n",
      " 4.73301875e+05 4.74254500e+05 7.66973572e+01 4.74527500e+05\n",
      " 4.73851906e+05 4.72449344e+05 4.61198875e+05 4.59856500e+05\n",
      " 4.60809156e+05 4.61697594e+05            nan            nan\n",
      "            nan]\n"
     ]
    },
    {
     "ename": "KeyboardInterrupt",
     "evalue": "",
     "output_type": "error",
     "traceback": [
      "\u001b[1;31m---------------------------------------------------------------------------\u001b[0m",
      "\u001b[1;31mKeyboardInterrupt\u001b[0m                         Traceback (most recent call last)",
      "\u001b[1;32m<ipython-input-17-e86321b04cf7>\u001b[0m in \u001b[0;36m<module>\u001b[1;34m\u001b[0m\n\u001b[0;32m     17\u001b[0m \u001b[1;33m\u001b[0m\u001b[0m\n\u001b[0;32m     18\u001b[0m     \u001b[0md\u001b[0m \u001b[1;33m=\u001b[0m \u001b[1;33m(\u001b[0m\u001b[0mdatetime\u001b[0m\u001b[1;33m.\u001b[0m\u001b[0mnow\u001b[0m\u001b[1;33m(\u001b[0m\u001b[1;33m)\u001b[0m \u001b[1;33m-\u001b[0m \u001b[0mt1\u001b[0m\u001b[1;33m)\u001b[0m\u001b[1;33m.\u001b[0m\u001b[0mtotal_seconds\u001b[0m\u001b[1;33m(\u001b[0m\u001b[1;33m)\u001b[0m \u001b[1;31m#time between next eeg collection mark and now\u001b[0m\u001b[1;33m\u001b[0m\u001b[1;33m\u001b[0m\u001b[0m\n\u001b[1;32m---> 19\u001b[1;33m     \u001b[1;32mif\u001b[0m \u001b[0mabs\u001b[0m\u001b[1;33m(\u001b[0m\u001b[0md\u001b[0m\u001b[1;33m)\u001b[0m \u001b[1;33m<=\u001b[0m \u001b[1;36m1\u001b[0m\u001b[1;33m/\u001b[0m\u001b[0mfs\u001b[0m\u001b[1;33m/\u001b[0m\u001b[1;36m2\u001b[0m \u001b[1;32mor\u001b[0m \u001b[0md\u001b[0m\u001b[1;33m>=\u001b[0m\u001b[1;36m1\u001b[0m\u001b[1;33m/\u001b[0m\u001b[0mfs\u001b[0m\u001b[1;33m/\u001b[0m\u001b[1;36m2\u001b[0m\u001b[1;33m:\u001b[0m\u001b[1;33m\u001b[0m\u001b[1;33m\u001b[0m\u001b[0m\n\u001b[0m\u001b[0;32m     20\u001b[0m         \u001b[0mprint\u001b[0m\u001b[1;33m(\u001b[0m\u001b[0md\u001b[0m\u001b[1;33m)\u001b[0m\u001b[1;33m\u001b[0m\u001b[1;33m\u001b[0m\u001b[0m\n\u001b[0;32m     21\u001b[0m         \u001b[1;31m#update t0, t1\u001b[0m\u001b[1;33m\u001b[0m\u001b[1;33m\u001b[0m\u001b[1;33m\u001b[0m\u001b[0m\n",
      "\u001b[1;31mKeyboardInterrupt\u001b[0m: "
     ]
    }
   ],
   "source": [
    "from datetime import datetime\n",
    "from datetime import timedelta\n",
    "\n",
    "#sampling frequency of eeg machine\n",
    "fs = 512\n",
    "#collect eeg data every stride seconds\n",
    "stride = 0.5 #seconds\n",
    "t_delta = timedelta(microseconds = stride*1000000)\n",
    "\n",
    "keep_running = 1\n",
    "\n",
    "#t0 is time at the previous eeg collection\n",
    "t0 = datetime.now() # (eeg collected is from winlen seconds previous of t0 to t0)\n",
    "t1 = t0 + t_delta #next eeg collection time \n",
    "\n",
    "while keep_running == 1:\n",
    "   \n",
    "    d = (datetime.now() - t1).total_seconds() #time between next eeg collection mark and now\n",
    "    if abs(d) <= 1/fs/2 or d>=1/fs/2:\n",
    "        #print(d)\n",
    "        #update t0, t1\n",
    "        t0 = t1\n",
    "        t1 = t0 + t_delta\n",
    "        #print (datetime.now())\n",
    "        \n",
    "        #do collect eeg data from csv file(the csv file is constantly updated by openvibe)\n",
    "        print(collect_signal(csv_path = csv_path, n_load = 10)[0])"
   ]
  },
  {
   "cell_type": "code",
   "execution_count": null,
   "metadata": {},
   "outputs": [],
   "source": []
  }
 ],
 "metadata": {
  "kernelspec": {
   "display_name": "Python 3",
   "language": "python",
   "name": "python3"
  },
  "language_info": {
   "codemirror_mode": {
    "name": "ipython",
    "version": 3
   },
   "file_extension": ".py",
   "mimetype": "text/x-python",
   "name": "python",
   "nbconvert_exporter": "python",
   "pygments_lexer": "ipython3",
   "version": "3.7.1"
  }
 },
 "nbformat": 4,
 "nbformat_minor": 2
}
