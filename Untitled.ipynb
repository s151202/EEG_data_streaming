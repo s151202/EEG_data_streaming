{
 "cells": [
  {
   "cell_type": "code",
   "execution_count": 3,
   "metadata": {},
   "outputs": [],
   "source": [
    "import pandas as pd\n",
    "import numpy as np"
   ]
  },
  {
   "cell_type": "markdown",
   "metadata": {},
   "source": [
    "# Read the last n lines of csv"
   ]
  },
  {
   "cell_type": "code",
   "execution_count": 1,
   "metadata": {
    "scrolled": true
   },
   "outputs": [],
   "source": [
    "import pandas as pd\n",
    "import numpy as np\n",
    "\n",
    "#set csv file path\n",
    "csv_path = 'D:\\\\openvibe-2.2.0-64bit\\\\record-[test].csv'\n",
    "\n",
    "#read in the total number of lines in the csv file\n",
    "with open(csv_path) as f:\n",
    "    num_line = sum(1 for line in f)\n",
    "\n",
    "#load the last n lines of the csv file (skipping the first num_line - n lines)\n",
    "n = 10\n",
    "rows = pd.read_csv(csv_path, header = None, skiprows=num_line-n)\n",
    "\n",
    "#header\n",
    "header_names = pd.read_csv(csv_path, header = None, nrows=1)\n",
    "\n",
    "#turn panda csv to numpy arrays\n",
    "data = (rows.get_values())\n",
    "eeg = data[:,2:-3]\n",
    "timestamp = data[:,0]\n",
    "\n"
   ]
  },
  {
   "cell_type": "code",
   "execution_count": 3,
   "metadata": {},
   "outputs": [],
   "source": [
    "def collect_signal(csv_path, n_load):\n",
    "    \n",
    "    \"\"\"\n",
    "    read the last n_load lines of the signal(eeg) which is saved in a csv file\n",
    "    open csv file whose path is csv_path\n",
    "    take the last n_load lines of the csv file.\n",
    "    \n",
    "    INPUT:\n",
    "        csv_path: file path to the csv file (signal file). string.\n",
    "        n_load: number of lines from the end of the csv file to read. int.\n",
    "    RETURN:\n",
    "        data: the last n_load lines of the signal in the csv file. numpy array\n",
    "    \"\"\"\n",
    "    #read in the total number of lines in the csv file\n",
    "    with open(csv_path) as f:\n",
    "        num_line = sum(1 for line in f)\n",
    "        \n",
    "    #load the last n lines of the csv file (skipping the first num_line - n lines)\n",
    "    rows = pd.read_csv(csv_path, header = None, skiprows=num_line-n_load)\n",
    "    \n",
    "    #header\n",
    "    header_names = pd.read_csv(csv_path, header = None, nrows=1)\n",
    "\n",
    "    #turn panda csv to numpy arrays\n",
    "    data = (rows.get_values())\n",
    "    \n",
    "    return data"
   ]
  },
  {
   "cell_type": "markdown",
   "metadata": {},
   "source": [
    "# Clock"
   ]
  },
  {
   "cell_type": "code",
   "execution_count": 4,
   "metadata": {},
   "outputs": [],
   "source": [
    "csv_path = 'D:\\\\openvibe-2.2.0-64bit\\\\record-[test1].csv'\n"
   ]
  },
  {
   "cell_type": "code",
   "execution_count": 41,
   "metadata": {
    "scrolled": true
   },
   "outputs": [
    {
     "name": "stdout",
     "output_type": "stream",
     "text": [
      "2019-10-06 17:30:11.396943\n",
      "6.302734375\n",
      "2019-10-06 17:30:11.410845\n",
      "2019-10-06 17:30:11.897604\n",
      "6.302734375\n",
      "2019-10-06 17:30:11.912534\n",
      "2019-10-06 17:30:12.396901\n",
      "6.302734375\n",
      "2019-10-06 17:30:12.412798\n",
      "2019-10-06 17:30:12.897543\n",
      "6.302734375\n",
      "2019-10-06 17:30:12.912475\n",
      "2019-10-06 17:30:13.397440\n",
      "6.302734375\n",
      "2019-10-06 17:30:13.411363\n",
      "2019-10-06 17:30:13.896958\n",
      "6.302734375\n",
      "2019-10-06 17:30:13.910920\n",
      "2019-10-06 17:30:14.396746\n",
      "6.302734375\n",
      "2019-10-06 17:30:14.411683\n",
      "2019-10-06 17:30:14.896877\n",
      "6.302734375\n",
      "2019-10-06 17:30:14.912874\n"
     ]
    },
    {
     "ename": "KeyboardInterrupt",
     "evalue": "",
     "output_type": "error",
     "traceback": [
      "\u001b[1;31m---------------------------------------------------------------------------\u001b[0m",
      "\u001b[1;31mKeyboardInterrupt\u001b[0m                         Traceback (most recent call last)",
      "\u001b[1;32m<ipython-input-41-e68091576167>\u001b[0m in \u001b[0;36m<module>\u001b[1;34m\u001b[0m\n\u001b[0;32m     17\u001b[0m \u001b[1;32mwhile\u001b[0m \u001b[0mkeep_running\u001b[0m \u001b[1;33m==\u001b[0m \u001b[1;36m1\u001b[0m\u001b[1;33m:\u001b[0m\u001b[1;33m\u001b[0m\u001b[1;33m\u001b[0m\u001b[0m\n\u001b[0;32m     18\u001b[0m \u001b[1;33m\u001b[0m\u001b[0m\n\u001b[1;32m---> 19\u001b[1;33m     \u001b[0md\u001b[0m \u001b[1;33m=\u001b[0m \u001b[1;33m(\u001b[0m\u001b[0mdatetime\u001b[0m\u001b[1;33m.\u001b[0m\u001b[0mnow\u001b[0m\u001b[1;33m(\u001b[0m\u001b[1;33m)\u001b[0m \u001b[1;33m-\u001b[0m \u001b[0mt1\u001b[0m\u001b[1;33m)\u001b[0m\u001b[1;33m.\u001b[0m\u001b[0mtotal_seconds\u001b[0m\u001b[1;33m(\u001b[0m\u001b[1;33m)\u001b[0m \u001b[1;31m#time between next eeg collection mark and now\u001b[0m\u001b[1;33m\u001b[0m\u001b[1;33m\u001b[0m\u001b[0m\n\u001b[0m\u001b[0;32m     20\u001b[0m     \u001b[1;32mif\u001b[0m \u001b[0mabs\u001b[0m\u001b[1;33m(\u001b[0m\u001b[0md\u001b[0m\u001b[1;33m)\u001b[0m \u001b[1;33m<=\u001b[0m \u001b[1;36m1\u001b[0m\u001b[1;33m/\u001b[0m\u001b[0mfs\u001b[0m\u001b[1;33m/\u001b[0m\u001b[1;36m2\u001b[0m \u001b[1;32mor\u001b[0m \u001b[0md\u001b[0m\u001b[1;33m>=\u001b[0m\u001b[1;36m1\u001b[0m\u001b[1;33m/\u001b[0m\u001b[0mfs\u001b[0m\u001b[1;33m/\u001b[0m\u001b[1;36m2\u001b[0m\u001b[1;33m:\u001b[0m\u001b[1;33m\u001b[0m\u001b[1;33m\u001b[0m\u001b[0m\n\u001b[0;32m     21\u001b[0m         \u001b[1;31m#print(d)\u001b[0m\u001b[1;33m\u001b[0m\u001b[1;33m\u001b[0m\u001b[1;33m\u001b[0m\u001b[0m\n",
      "\u001b[1;31mKeyboardInterrupt\u001b[0m: "
     ]
    }
   ],
   "source": [
    "from datetime import datetime\n",
    "from datetime import timedelta\n",
    "\n",
    "#sampling frequency of eeg machine\n",
    "fs = 512\n",
    "#collect eeg data every stride seconds\n",
    "stride = 0.5 #seconds\n",
    "t_delta = timedelta(microseconds = stride*1000000)\n",
    "\n",
    "keep_running = 1\n",
    "\n",
    "#t0 is time at the previous eeg collection\n",
    "t0 = datetime.now() # (eeg collected is from winlen seconds previous of t0 to t0)\n",
    "t1 = t0 + t_delta #next eeg collection time \n",
    "\n",
    "\n",
    "while keep_running == 1:\n",
    "   \n",
    "    d = (datetime.now() - t1).total_seconds() #time between next eeg collection mark and now\n",
    "    if abs(d) <= 1/fs/2 or d>=1/fs/2:\n",
    "        #print(d)\n",
    "        #update t0, t1\n",
    "        t0 = t1\n",
    "        t1 = t0 + t_delta\n",
    "        #print (datetime.now())\n",
    "        \n",
    "        #do collect eeg data from csv file(the csv file is constantly updated by openvibe)\n",
    "        print (datetime.now())\n",
    "        print(collect_signal(csv_path= csv_path, n_load = 10)[-1][0])\n",
    "        print (datetime.now())\n"
   ]
  },
  {
   "cell_type": "markdown",
   "metadata": {},
   "source": [
    "# test alpha wave and jaws (10 secs open eyes + 5secs open eye with jaw, +10secs closed eys +10 seconds open eyes)"
   ]
  },
  {
   "cell_type": "code",
   "execution_count": 110,
   "metadata": {},
   "outputs": [],
   "source": [
    "csv_path = 'D:\\\\openvibe-2.2.0-64bit\\\\record-[openyes3].csv'\n",
    "\n",
    "\n",
    "def calc_alpha_power(csv_path):\n",
    "    rows = pd.read_csv(csv_path, header = None)\n",
    "    data = rows.get_values()\n",
    "    eeg = data[10*512:20*512, 3:5]\n",
    "    eeg= eeg.astype('float')\n",
    "    filtered_eeg = filter_signal(eeg, np.array([20,22]), np.array([18,24]), 512/2, 3, 50, axis =0)\n",
    "    \n",
    "    power = np.sum(np.multiply(filtered_eeg, filtered_eeg), axis = 0)\n",
    "    \n",
    "    return power"
   ]
  },
  {
   "cell_type": "code",
   "execution_count": 111,
   "metadata": {
    "scrolled": true
   },
   "outputs": [],
   "source": [
    "power_o3 = calc_alpha_power('D:\\\\openvibe-2.2.0-64bit\\\\hz3.csv')\n",
    "power_o2 = calc_alpha_power('D:\\\\openvibe-2.2.0-64bit\\\\hz2.csv')\n",
    "power_o1 = calc_alpha_power('D:\\\\openvibe-2.2.0-64bit\\\\hz1.csv')\n",
    "\n",
    "power_c3 = calc_alpha_power('D:\\\\openvibe-2.2.0-64bit\\\\nothing3.csv')\n",
    "power_c2 = calc_alpha_power('D:\\\\openvibe-2.2.0-64bit\\\\nothing2.csv')\n",
    "power_c1 = calc_alpha_power('D:\\\\openvibe-2.2.0-64bit\\\\nothing1.csv')"
   ]
  },
  {
   "cell_type": "code",
   "execution_count": 95,
   "metadata": {},
   "outputs": [
    {
     "data": {
      "text/plain": [
       "array([['-107.3176345825', '-480.6957092285', '91.2354431152'],\n",
       "       ['-64.6781768799', '-488.8053894043', '105.0894241333'],\n",
       "       ['-76.5716018677', '-485.7926940918', '100.1645507813'],\n",
       "       ...,\n",
       "       ['-74.0133743286', '-486.5094299316', '100.6570281982'],\n",
       "       ['-67.8854064941', '-481.8551635742', '100.9664382935'],\n",
       "       ['3203.3774414063', '-1064.0424804688', '1177.0391845703']],\n",
       "      dtype=object)"
      ]
     },
     "execution_count": 95,
     "metadata": {},
     "output_type": "execute_result"
    }
   ],
   "source": [
    "eeg"
   ]
  },
  {
   "cell_type": "code",
   "execution_count": 112,
   "metadata": {},
   "outputs": [
    {
     "name": "stdout",
     "output_type": "stream",
     "text": [
      "o3  19.09404149991618\n",
      "o2  14.887142878751972\n",
      "o1  12.030487155778301\n",
      "c3  8.57140167991185\n",
      "c2  12.850143908859213\n",
      "c1  20666407.18697957\n"
     ]
    }
   ],
   "source": [
    "print ('o3 ', np.sum(power_o3))\n",
    "print ('o2 ',np.sum(power_o2))\n",
    "print ('o1 ',np.sum(power_o1))\n",
    "print ('c3 ',np.sum(power_c3))\n",
    "print ('c2 ',np.sum(power_c2))\n",
    "print ('c1 ',np.sum(power_c1))"
   ]
  },
  {
   "cell_type": "code",
   "execution_count": 113,
   "metadata": {},
   "outputs": [
    {
     "name": "stdout",
     "output_type": "stream",
     "text": [
      "16.990592189334077\n",
      "10.71077279438553\n"
     ]
    }
   ],
   "source": [
    "print(np.average((np.sum(power_o3), np.sum(power_o2) )))\n",
    "print(np.average((np.sum(power_c3), np.sum(power_c2) )))\n"
   ]
  },
  {
   "cell_type": "code",
   "execution_count": 45,
   "metadata": {},
   "outputs": [],
   "source": [
    "filtered_eeg = filter_signal(eeg.astype('float'), np.array([9,11]), np.array([7,13]), 512/2, 3, 50, axis =0)\n"
   ]
  },
  {
   "cell_type": "code",
   "execution_count": 47,
   "metadata": {},
   "outputs": [
    {
     "data": {
      "text/plain": [
       "(12820, 3)"
      ]
     },
     "execution_count": 47,
     "metadata": {},
     "output_type": "execute_result"
    }
   ],
   "source": [
    "np.shape(filtered_eeg)"
   ]
  },
  {
   "cell_type": "code",
   "execution_count": 11,
   "metadata": {},
   "outputs": [],
   "source": [
    "import matplotlib.pyplot as plt\n"
   ]
  },
  {
   "cell_type": "code",
   "execution_count": 12,
   "metadata": {},
   "outputs": [],
   "source": [
    "y = data[1:,2].astype('float')\n",
    "x =  (np.linspace(0, len(y), len(y))) * 1/512"
   ]
  },
  {
   "cell_type": "code",
   "execution_count": 13,
   "metadata": {},
   "outputs": [
    {
     "data": {
      "text/plain": [
       "[<matplotlib.lines.Line2D at 0x17124504198>]"
      ]
     },
     "execution_count": 13,
     "metadata": {},
     "output_type": "execute_result"
    },
    {
     "data": {
      "image/png": "[encoded data removed]",
      "text/plain": [
       "<Figure size 432x288 with 1 Axes>"
      ]
     },
     "metadata": {
      "needs_background": "light"
     },
     "output_type": "display_data"
    }
   ],
   "source": [
    "plt.plot(x,y)"
   ]
  },
  {
   "cell_type": "code",
   "execution_count": 14,
   "metadata": {},
   "outputs": [
    {
     "data": {
      "text/plain": [
       "(12820,)"
      ]
     },
     "execution_count": 14,
     "metadata": {},
     "output_type": "execute_result"
    }
   ],
   "source": [
    "np.shape(y)"
   ]
  },
  {
   "cell_type": "code",
   "execution_count": 34,
   "metadata": {},
   "outputs": [],
   "source": [
    "openeyes = data[10*512:, 0]\n"
   ]
  },
  {
   "cell_type": "code",
   "execution_count": 35,
   "metadata": {},
   "outputs": [
    {
     "data": {
      "text/plain": [
       "array([ 9.99804688, 10.        , 10.00195312, ..., 25.03320312,\n",
       "       25.03515625, 25.03710938])"
      ]
     },
     "execution_count": 35,
     "metadata": {},
     "output_type": "execute_result"
    }
   ],
   "source": [
    "openeyes.astype('float')"
   ]
  },
  {
   "cell_type": "code",
   "execution_count": 29,
   "metadata": {},
   "outputs": [],
   "source": [
    "def filter_signal (signal_raw, passband, stopband, Nf, gpass, gstop,  axis = 2):\n",
    "    \"\"\"\n",
    "    Apply cheby II filter on a signal matrix of shape (trial X channels X time), filter is applied on the axis 2\n",
    "    INPUTS: \n",
    "        #signal_raw: signal matrix of shape (trials X channels X time)\n",
    "        #passband, stopband: the pass and stop frequency bands of the filter, in Hz\n",
    "        #Nf: Nyquist frequency = sampling frequency / 2\n",
    "        #gpass: max. attenuation in passband, in dB, arbitrarily chosen\n",
    "        #gstop: min. attenuation in stop band, in dB, arbitrarily chosen\n",
    "        #axis: the axis to apply the filter, default to 2 (time)\n",
    "\n",
    "    OUTPUT:\n",
    "        #filtered signal matrix, in shape (trials X channels X time)\n",
    "    \"\"\"\n",
    "\n",
    "    #auto caculate order and wn for chebyl ii filter\n",
    "    wp = passband / Nf\n",
    "    ws = stopband / Nf\n",
    "    order, wn = signal.cheb2ord(wp, ws, gpass, gstop)\n",
    "\n",
    "    #calc chebly ii filter\n",
    "    b, a = signal.cheby2(order, gstop, wn, btype='bandpass')\n",
    "\n",
    "    #aply filter\n",
    "    signal_filt = signal.filtfilt(b,a, signal_raw, axis = axis)\n",
    "    \n",
    "    return signal_filt"
   ]
  },
  {
   "cell_type": "code",
   "execution_count": 30,
   "metadata": {},
   "outputs": [],
   "source": [
    "from scipy import signal \n",
    "\n",
    "o = filter_signal(openeyes.astype('float'), np.array([9,11]), np.array([7,13]), 512/2, 3, 50, axis =0)\n",
    "#c =  filter_signal(closedeyes.astype('float'), np.array([9,11]), np.array([7,13]), 512/2, 3, 50, axis =0)"
   ]
  },
  {
   "cell_type": "code",
   "execution_count": 31,
   "metadata": {},
   "outputs": [
    {
     "data": {
      "image/png": "[encoded data removed]",
      "text/plain": [
       "<Figure size 432x288 with 1 Axes>"
      ]
     },
     "metadata": {
      "needs_background": "light"
     },
     "output_type": "display_data"
    }
   ],
   "source": [
    "plt.plot(o)\n",
    "#plt.plot(c)\n",
    "plt.show()\n",
    "\n",
    "#np.sum(o*o), np.sum(c*c), "
   ]
  },
  {
   "cell_type": "code",
   "execution_count": 41,
   "metadata": {},
   "outputs": [],
   "source": [
    "wp = np.array([9., 11.]) / 512/2\n",
    "ws = np.array([7.,13.]) / 512/2\n",
    "order, wn = signal.cheb2ord(wp, ws, 3, 50)"
   ]
  },
  {
   "cell_type": "code",
   "execution_count": 20,
   "metadata": {},
   "outputs": [
    {
     "data": {
      "text/plain": [
       "[<matplotlib.lines.Line2D at 0x1b8ef759390>]"
      ]
     },
     "execution_count": 20,
     "metadata": {},
     "output_type": "execute_result"
    },
    {
     "data": {
      "image/png": "[encoded data removed]",
      "text/plain": [
       "<Figure size 432x288 with 1 Axes>"
      ]
     },
     "metadata": {
      "needs_background": "light"
     },
     "output_type": "display_data"
    }
   ],
   "source": [
    "plt.plot(openeyes.astype('float'))"
   ]
  },
  {
   "cell_type": "code",
   "execution_count": 1,
   "metadata": {},
   "outputs": [],
   "source": [
    "import datetime\n",
    "import time"
   ]
  },
  {
   "cell_type": "code",
   "execution_count": 4,
   "metadata": {},
   "outputs": [
    {
     "name": "stdout",
     "output_type": "stream",
     "text": [
      "2019-10-07 17:09:03.632771\n",
      "1570460943.6327717\n"
     ]
    }
   ],
   "source": [
    "print (datetime.datetime.now())\n",
    "print(time.time())"
   ]
  },
  {
   "cell_type": "code",
   "execution_count": 5,
   "metadata": {},
   "outputs": [
    {
     "data": {
      "text/plain": [
       "33029"
      ]
     },
     "execution_count": 5,
     "metadata": {},
     "output_type": "execute_result"
    }
   ],
   "source": [
    "5+0x8100"
   ]
  },
  {
   "cell_type": "code",
   "execution_count": 8,
   "metadata": {},
   "outputs": [],
   "source": [
    "def to_byte(value, length):\n",
    "    for x in range(length):\n",
    "        yield value%256\n",
    "        value//=256\n"
   ]
  },
  {
   "cell_type": "code",
   "execution_count": 18,
   "metadata": {},
   "outputs": [
    {
     "data": {
      "text/plain": [
       "[5, 129, 0, 0, 0, 0, 0, 0]"
      ]
     },
     "execution_count": 18,
     "metadata": {},
     "output_type": "execute_result"
    }
   ],
   "source": [
    "event_id"
   ]
  },
  {
   "cell_type": "code",
   "execution_count": 12,
   "metadata": {},
   "outputs": [
    {
     "data": {
      "text/plain": [
       "[0, 0, 0, 0, 0, 0, 0, 0, 5, 129, 0, 0, 0, 0, 0, 0]"
      ]
     },
     "execution_count": 12,
     "metadata": {},
     "output_type": "execute_result"
    }
   ],
   "source": [
    "[0]*8 + list(to_byte(5+0x8100, 8))"
   ]
  },
  {
   "cell_type": "code",
   "execution_count": 15,
   "metadata": {},
   "outputs": [
    {
     "data": {
      "text/plain": [
       "bytearray(b'\\x00\\x00\\x00\\x00\\x00\\x00\\x00\\x00\\x05\\x81\\x00\\x00\\x00\\x00\\x00\\x00\\xec\\x0c\\xf3\\xa6m\\x01\\x00\\x00')"
      ]
     },
     "execution_count": 15,
     "metadata": {},
     "output_type": "execute_result"
    }
   ],
   "source": [
    "padding =[0]*8\n",
    "event_id =list(to_byte(5+0x8100, 8))\n",
    "timestamp = list(to_byte(int(time.time()*1000)+0, 8))\n",
    "bytearray(padding+event_id+timestamp)"
   ]
  },
  {
   "cell_type": "code",
   "execution_count": 16,
   "metadata": {},
   "outputs": [
    {
     "data": {
      "text/plain": [
       "[236, 12, 243, 166, 109, 1, 0, 0]"
      ]
     },
     "execution_count": 16,
     "metadata": {},
     "output_type": "execute_result"
    }
   ],
   "source": [
    "timestamp"
   ]
  },
  {
   "cell_type": "code",
   "execution_count": 17,
   "metadata": {},
   "outputs": [
    {
     "data": {
      "text/plain": [
       "[0,\n",
       " 0,\n",
       " 0,\n",
       " 0,\n",
       " 0,\n",
       " 0,\n",
       " 0,\n",
       " 0,\n",
       " 5,\n",
       " 129,\n",
       " 0,\n",
       " 0,\n",
       " 0,\n",
       " 0,\n",
       " 0,\n",
       " 0,\n",
       " 236,\n",
       " 12,\n",
       " 243,\n",
       " 166,\n",
       " 109,\n",
       " 1,\n",
       " 0,\n",
       " 0]"
      ]
     },
     "execution_count": 17,
     "metadata": {},
     "output_type": "execute_result"
    }
   ],
   "source": [
    "padding+event_id+timestamp"
   ]
  },
  {
   "cell_type": "code",
   "execution_count": 1,
   "metadata": {},
   "outputs": [],
   "source": [
    "import socket"
   ]
  },
  {
   "cell_type": "code",
   "execution_count": 104,
   "metadata": {},
   "outputs": [
    {
     "data": {
      "text/plain": [
       "1"
      ]
     },
     "execution_count": 104,
     "metadata": {},
     "output_type": "execute_result"
    }
   ],
   "source": [
    "25%2"
   ]
  },
  {
   "cell_type": "code",
   "execution_count": 105,
   "metadata": {},
   "outputs": [
    {
     "name": "stdout",
     "output_type": "stream",
     "text": [
      "bytearray(b'\\x00\\x00\\x00\\x00\\x00\\x00\\x00\\x00A\\x04\\x00\\x00\\x00\\x00\\x00\\x00h\\xae\\xb4\\xaam\\x01\\x00\\x00')\n",
      "bytearray(b'\\x00\\x00\\x00\\x00\\x00\\x00\\x00\\x00B\\x04\\x00\\x00\\x00\\x00\\x00\\x00Q\\xb2\\xb4\\xaam\\x01\\x00\\x00')\n",
      "bytearray(b'\\x00\\x00\\x00\\x00\\x00\\x00\\x00\\x00A\\x04\\x00\\x00\\x00\\x00\\x00\\x009\\xb6\\xb4\\xaam\\x01\\x00\\x00')\n",
      "bytearray(b'\\x00\\x00\\x00\\x00\\x00\\x00\\x00\\x00B\\x04\\x00\\x00\\x00\\x00\\x00\\x00\"\\xba\\xb4\\xaam\\x01\\x00\\x00')\n",
      "bytearray(b'\\x00\\x00\\x00\\x00\\x00\\x00\\x00\\x00A\\x04\\x00\\x00\\x00\\x00\\x00\\x00\\x0b\\xbe\\xb4\\xaam\\x01\\x00\\x00')\n",
      "bytearray(b'\\x00\\x00\\x00\\x00\\x00\\x00\\x00\\x00B\\x04\\x00\\x00\\x00\\x00\\x00\\x00\\xf3\\xc1\\xb4\\xaam\\x01\\x00\\x00')\n",
      "bytearray(b'\\x00\\x00\\x00\\x00\\x00\\x00\\x00\\x00A\\x04\\x00\\x00\\x00\\x00\\x00\\x00\\xdb\\xc5\\xb4\\xaam\\x01\\x00\\x00')\n",
      "bytearray(b'\\x00\\x00\\x00\\x00\\x00\\x00\\x00\\x00B\\x04\\x00\\x00\\x00\\x00\\x00\\x00\\xc4\\xc9\\xb4\\xaam\\x01\\x00\\x00')\n",
      "bytearray(b'\\x00\\x00\\x00\\x00\\x00\\x00\\x00\\x00A\\x04\\x00\\x00\\x00\\x00\\x00\\x00\\xad\\xcd\\xb4\\xaam\\x01\\x00\\x00')\n",
      "bytearray(b'\\x00\\x00\\x00\\x00\\x00\\x00\\x00\\x00B\\x04\\x00\\x00\\x00\\x00\\x00\\x00\\x96\\xd1\\xb4\\xaam\\x01\\x00\\x00')\n",
      "bytearray(b'\\x00\\x00\\x00\\x00\\x00\\x00\\x00\\x00A\\x04\\x00\\x00\\x00\\x00\\x00\\x00~\\xd5\\xb4\\xaam\\x01\\x00\\x00')\n",
      "bytearray(b'\\x00\\x00\\x00\\x00\\x00\\x00\\x00\\x00B\\x04\\x00\\x00\\x00\\x00\\x00\\x00g\\xd9\\xb4\\xaam\\x01\\x00\\x00')\n",
      "bytearray(b'\\x00\\x00\\x00\\x00\\x00\\x00\\x00\\x00A\\x04\\x00\\x00\\x00\\x00\\x00\\x00O\\xdd\\xb4\\xaam\\x01\\x00\\x00')\n",
      "bytearray(b'\\x00\\x00\\x00\\x00\\x00\\x00\\x00\\x00B\\x04\\x00\\x00\\x00\\x00\\x00\\x008\\xe1\\xb4\\xaam\\x01\\x00\\x00')\n",
      "bytearray(b'\\x00\\x00\\x00\\x00\\x00\\x00\\x00\\x00A\\x04\\x00\\x00\\x00\\x00\\x00\\x00 \\xe5\\xb4\\xaam\\x01\\x00\\x00')\n",
      "bytearray(b'\\x00\\x00\\x00\\x00\\x00\\x00\\x00\\x00B\\x04\\x00\\x00\\x00\\x00\\x00\\x00\\t\\xe9\\xb4\\xaam\\x01\\x00\\x00')\n",
      "bytearray(b'\\x00\\x00\\x00\\x00\\x00\\x00\\x00\\x00A\\x04\\x00\\x00\\x00\\x00\\x00\\x00\\xf2\\xec\\xb4\\xaam\\x01\\x00\\x00')\n",
      "bytearray(b'\\x00\\x00\\x00\\x00\\x00\\x00\\x00\\x00B\\x04\\x00\\x00\\x00\\x00\\x00\\x00\\xda\\xf0\\xb4\\xaam\\x01\\x00\\x00')\n",
      "bytearray(b'\\x00\\x00\\x00\\x00\\x00\\x00\\x00\\x00A\\x04\\x00\\x00\\x00\\x00\\x00\\x00\\xc3\\xf4\\xb4\\xaam\\x01\\x00\\x00')\n",
      "bytearray(b'\\x00\\x00\\x00\\x00\\x00\\x00\\x00\\x00B\\x04\\x00\\x00\\x00\\x00\\x00\\x00\\xab\\xf8\\xb4\\xaam\\x01\\x00\\x00')\n"
     ]
    }
   ],
   "source": [
    "#!/usr/bin/env python\n",
    "\n",
    "# Example of tcp tagging client\n",
    "# The tag format is the same as with Shared Memory Tagging. It comprises three blocks of 8 bytes:\n",
    "#\n",
    "# ----------------------------------------------------------------------\n",
    "# |  padding  (8 bytes) |  event id (8 bytes)  |  timestamp (8 bytes)  |\n",
    "# ----------------------------------------------------------------------\n",
    "#  \n",
    "# The padding is only for consistency with Shared Memory Tagging and has no utility.\n",
    "# The event id informs about the type of event happening.\n",
    "# The timestamp is the posix time (ms since Epoch) at the moment of the event.\n",
    "# It the latter is set to 0, the acquisition server issues its own timestamp upon reception of the stimulation.\n",
    "\n",
    "import sys\n",
    "import socket\n",
    "from time import time, sleep\n",
    "\n",
    "# host and port of tcp tagging server\n",
    "HOST = '127.0.0.1'\n",
    "PORT = 15361\n",
    "\n",
    "# Event identifier (See stimulation codes in OpenVibe documentation)\n",
    "#EVENT_ID = 5+0x8100\n",
    "\n",
    "# Artificial delay (ms). It may need to be increased if the time to send the tag is too long and causes tag loss.\n",
    "DELAY=0\n",
    "\n",
    "# transform a value into an array of byte values in little-endian order.\n",
    "def to_byte(value, length):\n",
    "    for x in range(length):\n",
    "        yield value%256\n",
    "        value//=256\n",
    "\n",
    "# connect \n",
    "s = socket.socket(socket.AF_INET, socket.SOCK_STREAM)\n",
    "s.connect((HOST, PORT))\n",
    "\n",
    "for i in range(20):\n",
    "    # create the three pieces of the tag, padding, event_id and timestamp\n",
    "    padding=[0]*8\n",
    "    \n",
    "    if i%2 == 0:\n",
    "        EVENT_ID = 0x441 #right hand\n",
    "    else:\n",
    "        EVENT_ID = 0x442 #LEFT HAND\n",
    "    \n",
    "    event_id=list(to_byte(EVENT_ID, 8))\n",
    "\n",
    "    # timestamp can be either the posix time in ms, or 0 to let the acquisition server timestamp the tag itself.\n",
    "    timestamp=list(to_byte(int(time()*1000)+DELAY, 8))\n",
    "\n",
    "    # send tag and sleep\n",
    "    s.sendall(bytearray(padding+event_id+timestamp))\n",
    "    print (bytearray(padding+event_id+timestamp))\n",
    "    sleep(1)\n",
    "\n",
    "s.close()\n"
   ]
  },
  {
   "cell_type": "code",
   "execution_count": 9,
   "metadata": {},
   "outputs": [],
   "source": [
    "s = socket.socket(socket.AF_INET, socket.SOCK_STREAM)\n",
    "s.connect((HOST, PORT))"
   ]
  },
  {
   "cell_type": "code",
   "execution_count": 23,
   "metadata": {},
   "outputs": [
    {
     "data": {
      "text/plain": [
       "39.6"
      ]
     },
     "execution_count": 23,
     "metadata": {},
     "output_type": "execute_result"
    }
   ],
   "source": [
    "0.66*60\n"
   ]
  },
  {
   "cell_type": "code",
   "execution_count": 20,
   "metadata": {},
   "outputs": [
    {
     "data": {
      "text/plain": [
       "33024"
      ]
     },
     "execution_count": 20,
     "metadata": {},
     "output_type": "execute_result"
    }
   ],
   "source": [
    "0X8100"
   ]
  },
  {
   "cell_type": "code",
   "execution_count": 21,
   "metadata": {},
   "outputs": [
    {
     "data": {
      "text/plain": [
       "783"
      ]
     },
     "execution_count": 21,
     "metadata": {},
     "output_type": "execute_result"
    }
   ],
   "source": [
    "0x30F"
   ]
  },
  {
   "cell_type": "code",
   "execution_count": 108,
   "metadata": {},
   "outputs": [],
   "source": [
    "import pyedflib\n",
    "import datetime\n",
    "t0 = datetime.datetime.now()\n",
    "f = pyedflib.EdfReader(\"D:\\\\openvibe-2.2.0-64bit\\\\record-[test_edf].edf\")\n",
    "n = f.signals_in_file\n",
    "t1 = datetime.datetime.now()\n",
    "#f._close()\n",
    "#del f"
   ]
  },
  {
   "cell_type": "code",
   "execution_count": 107,
   "metadata": {},
   "outputs": [],
   "source": [
    "f._close()"
   ]
  },
  {
   "cell_type": "code",
   "execution_count": 75,
   "metadata": {},
   "outputs": [
    {
     "data": {
      "text/plain": [
       "datetime.timedelta(microseconds=997)"
      ]
     },
     "execution_count": 75,
     "metadata": {},
     "output_type": "execute_result"
    }
   ],
   "source": [
    "t1 - t0"
   ]
  },
  {
   "cell_type": "code",
   "execution_count": 76,
   "metadata": {},
   "outputs": [],
   "source": [
    "signal_labels = f.getSignalLabels()"
   ]
  },
  {
   "cell_type": "code",
   "execution_count": 109,
   "metadata": {},
   "outputs": [
    {
     "data": {
      "text/plain": [
       "(array([ 0.7465,  1.7474,  2.7478,  3.7482,  4.749 ,  5.7499,  6.7504,\n",
       "         7.7505,  8.7514,  9.7521, 10.7525, 11.7534, 12.7534, 13.7546,\n",
       "        14.7548, 15.7557]),\n",
       " array([0., 0., 0., 0., 0., 0., 0., 0., 0., 0., 0., 0., 0., 0., 0., 0.]),\n",
       " array(['OVTK_GDF_Right_Hand_Movement', 'OVTK_GDF_Left_Hand_Movement',\n",
       "        'OVTK_GDF_Right_Hand_Movement', 'OVTK_GDF_Left_Hand_Movement',\n",
       "        'OVTK_GDF_Right_Hand_Movement', 'OVTK_GDF_Left_Hand_Movement',\n",
       "        'OVTK_GDF_Right_Hand_Movement', 'OVTK_GDF_Left_Hand_Movement',\n",
       "        'OVTK_GDF_Right_Hand_Movement', 'OVTK_GDF_Left_Hand_Movement',\n",
       "        'OVTK_GDF_Right_Hand_Movement', 'OVTK_GDF_Left_Hand_Movement',\n",
       "        'OVTK_GDF_Right_Hand_Movement', 'OVTK_GDF_Left_Hand_Movement',\n",
       "        'OVTK_GDF_Right_Hand_Movement', 'OVTK_GDF_Left_Hand_Movement'],\n",
       "       dtype='<U28'))"
      ]
     },
     "execution_count": 109,
     "metadata": {},
     "output_type": "execute_result"
    }
   ],
   "source": [
    "f.readAnnotations()"
   ]
  },
  {
   "cell_type": "code",
   "execution_count": 98,
   "metadata": {},
   "outputs": [
    {
     "data": {
      "text/plain": [
       "['Channel 1',\n",
       " 'Channel 2',\n",
       " 'Channel 3',\n",
       " 'Channel 4',\n",
       " 'Channel 5',\n",
       " 'Channel 6',\n",
       " 'Channel 7',\n",
       " 'Channel 8',\n",
       " 'Channel 9',\n",
       " 'Channel 10',\n",
       " 'Channel 11',\n",
       " 'Channel 12',\n",
       " 'Channel 13',\n",
       " 'Channel 14',\n",
       " 'Channel 15',\n",
       " 'Channel 16']"
      ]
     },
     "execution_count": 98,
     "metadata": {},
     "output_type": "execute_result"
    }
   ],
   "source": [
    "signal_labels"
   ]
  },
  {
   "cell_type": "code",
   "execution_count": 80,
   "metadata": {},
   "outputs": [
    {
     "data": {
      "text/plain": [
       "6.0"
      ]
     },
     "execution_count": 80,
     "metadata": {},
     "output_type": "execute_result"
    }
   ],
   "source": [
    "f.getNSamples()[0]/512"
   ]
  },
  {
   "cell_type": "code",
   "execution_count": 82,
   "metadata": {},
   "outputs": [
    {
     "data": {
      "text/plain": [
       "6"
      ]
     },
     "execution_count": 82,
     "metadata": {},
     "output_type": "execute_result"
    }
   ],
   "source": []
  },
  {
   "cell_type": "code",
   "execution_count": 90,
   "metadata": {},
   "outputs": [
    {
     "data": {
      "text/plain": [
       "array([-73.96812652, -73.77651901, -74.61827331, ..., -72.6333    ,\n",
       "       -72.6333    , -72.6333    ])"
      ]
     },
     "execution_count": 90,
     "metadata": {},
     "output_type": "execute_result"
    }
   ],
   "source": [
    "f.readSignal(0)"
   ]
  },
  {
   "cell_type": "code",
   "execution_count": null,
   "metadata": {},
   "outputs": [],
   "source": []
  }
 ],
 "metadata": {
  "kernelspec": {
   "display_name": "Python 3",
   "language": "python",
   "name": "python3"
  },
  "language_info": {
   "codemirror_mode": {
    "name": "ipython",
    "version": 3
   },
   "file_extension": ".py",
   "mimetype": "text/x-python",
   "name": "python",
   "nbconvert_exporter": "python",
   "pygments_lexer": "ipython3",
   "version": "3.7.1"
  }
 },
 "nbformat": 4,
 "nbformat_minor": 2
}
