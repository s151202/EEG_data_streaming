{
 "cells": [
  {
   "cell_type": "code",
   "execution_count": 8,
   "metadata": {
    "scrolled": true
   },
   "outputs": [
    {
     "name": "stdout",
     "output_type": "stream",
     "text": [
      "Using matplotlib backend: Qt5Agg\n"
     ]
    }
   ],
   "source": [
    "import sys\n",
    "import pickle\n",
    "from scipy import signal\n",
    "from scipy import stats\n",
    "import numpy as np\n",
    "from sklearn.model_selection import ShuffleSplit\n",
    "\n",
    "import socket\n",
    "import time\n",
    "\n",
    "import math\n",
    "from collections import OrderedDict\n",
    "\n",
    "\n",
    "import matplotlib.pyplot as plt\n",
    "\n",
    "sys.path.append('D:\\Diamond\\code')\n",
    "from csp_james_2 import *\n",
    "\n",
    "sys.path.append('D:\\Diamond\\code')\n",
    "from thesis_funcs_19_03 import *\n",
    "\n",
    "import csv\n",
    "import datetime\n",
    "from random import randint\n",
    "import random\n",
    "import matplotlib.image as mpimg\n",
    "%matplotlib auto"
   ]
  },
  {
   "cell_type": "markdown",
   "metadata": {},
   "source": [
    "# Define classes and how many trials per class"
   ]
  },
  {
   "cell_type": "code",
   "execution_count": 2,
   "metadata": {},
   "outputs": [],
   "source": [
    "C_OVR  = [0,1] #MI classes, [0,1,2,3] for left hand, right hand, feet, tongue\n",
    "_classes  = C_OVR*7 #*trials per MI class\n",
    "random.shuffle(_classes) #randomize sequence of MI classes"
   ]
  },
  {
   "cell_type": "code",
   "execution_count": 3,
   "metadata": {},
   "outputs": [],
   "source": [
    "fileroot = 'E:\\\\Diamond\\\\own_expo\\\\'\n",
    "filewrite = open(fileroot + 'record.txt','w')\n",
    "filewrite.write('')\n",
    "filewrite.close()\n",
    "\n",
    "file_cross = open(fileroot + 'cross_sign.txt','w')\n",
    "file_cross.write('0')\n",
    "file_cross.close()\n",
    "\n",
    "endgame = open(fileroot + 'endgame.txt','w')\n",
    "endgame.write('0')\n",
    "endgame.close()\n",
    "\n",
    "\n",
    "filewrite = open(fileroot + 'record.txt','a')\n"
   ]
  },
  {
   "cell_type": "code",
   "execution_count": 4,
   "metadata": {},
   "outputs": [],
   "source": [
    "plt.ioff()\n"
   ]
  },
  {
   "cell_type": "code",
   "execution_count": 5,
   "metadata": {},
   "outputs": [],
   "source": [
    "end = 0"
   ]
  },
  {
   "cell_type": "markdown",
   "metadata": {},
   "source": [
    "# Connect to Openvibe aquisition server (AS)"
   ]
  },
  {
   "cell_type": "code",
   "execution_count": null,
   "metadata": {},
   "outputs": [],
   "source": [
    "# host and port of tcp tagging server\n",
    "HOST = '127.0.0.1' #local machine address\n",
    "PORT = 15361 #port to connect to AS\n",
    "\n",
    "# transform a value into an array of byte values in little-endian order.\n",
    "def to_byte(value, length):\n",
    "    for x in range(length):\n",
    "        yield value%256\n",
    "        value//=256\n",
    "        \n",
    "# connect \n",
    "s = socket.socket(socket.AF_INET, socket.SOCK_STREAM)\n",
    "s.connect((HOST, PORT))\n",
    "\n",
    "#padding of zeros to keep length of tag consistant\n",
    "padding=[0]*8"
   ]
  },
  {
   "cell_type": "code",
   "execution_count": 6,
   "metadata": {},
   "outputs": [
    {
     "data": {
      "image/png": "[encoded data removed]",
      "text/plain": [
       "<Figure size 432x288 with 1 Axes>"
      ]
     },
     "metadata": {
      "needs_background": "light"
     },
     "output_type": "display_data"
    },
    {
     "ename": "KeyboardInterrupt",
     "evalue": "",
     "output_type": "error",
     "traceback": [
      "\u001b[1;31m---------------------------------------------------------------------------\u001b[0m",
      "\u001b[1;31mKeyboardInterrupt\u001b[0m                         Traceback (most recent call last)",
      "\u001b[1;32m<ipython-input-6-93f75ce2f513>\u001b[0m in \u001b[0;36m<module>\u001b[1;34m\u001b[0m\n\u001b[0;32m     62\u001b[0m         \u001b[0mfile_cross\u001b[0m\u001b[1;33m.\u001b[0m\u001b[0mclose\u001b[0m\u001b[1;33m(\u001b[0m\u001b[1;33m)\u001b[0m\u001b[1;33m\u001b[0m\u001b[1;33m\u001b[0m\u001b[0m\n\u001b[0;32m     63\u001b[0m \u001b[1;33m\u001b[0m\u001b[0m\n\u001b[1;32m---> 64\u001b[1;33m     \u001b[1;32mif\u001b[0m \u001b[0mcue_exed\u001b[0m \u001b[1;33m==\u001b[0m \u001b[1;36m0\u001b[0m \u001b[1;32mand\u001b[0m \u001b[0mnp\u001b[0m\u001b[1;33m.\u001b[0m\u001b[0mabs\u001b[0m\u001b[1;33m(\u001b[0m\u001b[0mcue\u001b[0m \u001b[1;33m-\u001b[0m \u001b[0mdatetime\u001b[0m\u001b[1;33m.\u001b[0m\u001b[0mdatetime\u001b[0m\u001b[1;33m.\u001b[0m\u001b[0mnow\u001b[0m\u001b[1;33m(\u001b[0m\u001b[1;33m)\u001b[0m\u001b[1;33m)\u001b[0m\u001b[1;33m.\u001b[0m\u001b[0mtotal_seconds\u001b[0m\u001b[1;33m(\u001b[0m\u001b[1;33m)\u001b[0m \u001b[1;33m<\u001b[0m \u001b[0mreso\u001b[0m\u001b[1;33m:\u001b[0m\u001b[1;33m\u001b[0m\u001b[1;33m\u001b[0m\u001b[0m\n\u001b[0m\u001b[0;32m     65\u001b[0m         \u001b[1;32mif\u001b[0m \u001b[0m_classes\u001b[0m\u001b[1;33m[\u001b[0m\u001b[0mn\u001b[0m\u001b[1;33m]\u001b[0m \u001b[1;33m==\u001b[0m \u001b[1;36m0\u001b[0m\u001b[1;33m:\u001b[0m\u001b[1;33m\u001b[0m\u001b[1;33m\u001b[0m\u001b[0m\n\u001b[0;32m     66\u001b[0m             \u001b[0mimg\u001b[0m \u001b[1;33m=\u001b[0m \u001b[0mmpimg\u001b[0m\u001b[1;33m.\u001b[0m\u001b[0mimread\u001b[0m\u001b[1;33m(\u001b[0m\u001b[1;34m'E:\\\\Diamond\\\\cues\\\\left_hand.png'\u001b[0m\u001b[1;33m)\u001b[0m\u001b[1;33m\u001b[0m\u001b[1;33m\u001b[0m\u001b[0m\n",
      "\u001b[1;31mKeyboardInterrupt\u001b[0m: "
     ]
    }
   ],
   "source": [
    "n = 0\n",
    "reso = 0.001\n",
    "reso1 = 0.2\n",
    "pltpause = 0.05\n",
    "\n",
    "\n",
    "fig = plt.figure()\n",
    "ax = fig.add_subplot(1,1,1)\n",
    "\n",
    "fig.canvas.draw()\n",
    "img = mpimg.imread('E:\\\\Diamond\\\\cues\\\\black.png')\n",
    "ax.imshow(img)\n",
    "fig.canvas.draw()\n",
    "plt.pause(pltpause)\n",
    "\n",
    "\n",
    "t0 = datetime.datetime.now()\n",
    "filewrite.write('rest,' + str(t0) + '\\n')\n",
    "\n",
    "cross = t0 + datetime.timedelta(0,randint(0,5)/10 + 6)\n",
    "cue = cross + datetime.timedelta(0,1)\n",
    "rest = cue + datetime.timedelta(0,4)\n",
    "\n",
    "cross_exed = 0\n",
    "cue_exed = 0\n",
    "rest_exed = 0\n",
    "\n",
    "\n",
    "while n < len(_classes):\n",
    "\n",
    "\n",
    "    if cross_exed == 0 and np.abs(cross - datetime.datetime.now()).total_seconds() < reso:\n",
    "        \n",
    "        img = mpimg.imread('E:\\\\Diamond\\\\cues\\\\fixation.png')\n",
    "        ax.clear()\n",
    "        ax.imshow(img)\n",
    "        fig.canvas.draw()\n",
    "        plt.pause(pltpause)\n",
    "        filewrite.write('cross,' + str(datetime.datetime.now()) + '\\n')\n",
    "        \n",
    "        file_cross = open(fileroot + 'cross_sign.txt','w')\n",
    "        file_cross.write('1')\n",
    "        file_cross.close()\n",
    "        \n",
    "        print ('cross', datetime.datetime.now())\n",
    "        print ('_classes', _classes[n])\n",
    "        \n",
    "        cross_exed = 1\n",
    "    elif cross_exed == 0 and (datetime.datetime.now()-cross).total_seconds() < 0.2 and (datetime.datetime.now()-cross).total_seconds() > reso:\n",
    "        ax.clear()\n",
    "        img = mpimg.imread('E:\\\\Diamond\\\\cues\\\\fixation.png')\n",
    "        ax.imshow(img)\n",
    "        fig.canvas.draw()\n",
    "        plt.pause(pltpause)\n",
    "        filewrite.write('cross,' + str(datetime.datetime.now()) + '\\n')\n",
    "        print ('cross1', datetime.datetime.now())\n",
    "        print ('_classes', _classes[n])\n",
    "        cross_exed = 1\n",
    "    \n",
    "        file_cross = open(fileroot + 'cross_sign.txt','w')\n",
    "        file_cross.write('1')\n",
    "        file_cross.close()\n",
    "    \n",
    "    if cue_exed == 0 and np.abs(cue - datetime.datetime.now()).total_seconds() < reso:\n",
    "        if _classes[n] == 0:\n",
    "            img = mpimg.imread('E:\\\\Diamond\\\\cues\\\\left_hand.png')\n",
    "            EVENT_ID = 0x442 #LEFT HAND (1089) EVENT_IDs are used to tag eeg streams in openvibe, IDs are pre-defined at http://openvibe.inria.fr/stimulation-codes/\n",
    "        elif _classes[n] == 1:\n",
    "            img = mpimg.imread('E:\\\\Diamond\\\\cues\\\\right_hand.png')\n",
    "            EVENT_ID = 0x441 #RIGHT HAND (1090)\n",
    "        elif _classes[n] == 2:\n",
    "            img = mpimg.imread('E:\\\\Diamond\\\\cues\\\\feet.png')\n",
    "            EVENT_ID = 0x303 #FOOT (FEET) (771)\n",
    "        elif _classes[n] == 3:\n",
    "            img = mpimg.imread('E:\\\\Diamond\\\\cues\\\\tongue.jpg')\n",
    "            EVENT_ID = 0x304 #TONGUE (772)\n",
    "        \n",
    "        \n",
    "        \n",
    "        ax.clear()\n",
    "        ax.imshow(img)\n",
    "        fig.canvas.draw()\n",
    "        plt.pause(pltpause)\n",
    "        \n",
    "        #same time tag for record.txt and openvibe eeg streams\n",
    "        time_datetime = datetime.datetime.now()\n",
    "        time_unix = time.time()\n",
    "        \n",
    "        filewrite.write('cue,' + str(_classes[n]) + ',' + str(time_datetime) + '\\n')\n",
    "        \n",
    "        #event_id to byte format\n",
    "        event_id=list(to_byte(EVENT_ID, 8))\n",
    "        # timestamp can be either the posix time in ms, or 0 to let the acquisition server timestamp the tag itself.\n",
    "        timestamp=list(to_byte(int(time_unix*1000), 8))\n",
    "        #send tag to openvibe, tag is padding + event_id + timestamp in unix time, in uint64 format\n",
    "        s.sendall(bytearray(padding+event_id+timestamp))\n",
    "        \n",
    "        print ('cue', datetime.datetime.now())\n",
    "        print ('_classes', _classes[n])\n",
    "        \n",
    "        \n",
    "        cue_exed = 1     \n",
    "    elif cue_exed == 0 and (datetime.datetime.now()-cue).total_seconds() < 0.2 and (datetime.datetime.now()-cue).total_seconds() > reso:\n",
    "        if _classes[n] == 0:\n",
    "            img = mpimg.imread('E:\\\\Diamond\\\\cues\\\\left_hand.png')\n",
    "        elif _classes[n] == 1:\n",
    "            img = mpimg.imread('E:\\\\Diamond\\\\cues\\\\right_hand.png')\n",
    "        elif _classes[n] == 2:\n",
    "            img = mpimg.imread('E:\\\\Diamond\\\\cues\\\\feet.png')\n",
    "        elif _classes[n] == 3:\n",
    "            img = mpimg.imread('E:\\\\Diamond\\\\cues\\\\tongue.jpg')\n",
    "        ax.clear()\n",
    "        ax.imshow(img)\n",
    "        fig.canvas.draw()\n",
    "        plt.pause(pltpause)        \n",
    "        filewrite.write('cue,' + str(_classes[n]) + ',' + str(datetime.datetime.now()) + '\\n')\n",
    "\n",
    "        print ('cue1', datetime.datetime.now())\n",
    "        print ('_classes', _classes[n])\n",
    "        cue_exed = 1\n",
    "        \n",
    "    if rest_exed == 0 and np.abs(rest - datetime.datetime.now()).total_seconds() < reso:\n",
    "        img = mpimg.imread('E:\\\\Diamond\\\\cues\\\\black.png')\n",
    "        ax.clear()\n",
    "        ax.imshow(img)\n",
    "        fig.canvas.draw()\n",
    "        plt.pause(pltpause)\n",
    "        filewrite.write('rest,' + str(datetime.datetime.now()) + '\\n')\n",
    "   \n",
    "        print ('rest', datetime.datetime.now())\n",
    "        print ('_classes', _classes[n])\n",
    "        rest_exed = 1\n",
    "    elif rest_exed == 0 and (datetime.datetime.now()-rest).total_seconds() < 0.2 and (datetime.datetime.now()-rest).total_seconds() > reso:\n",
    "        img = mpimg.imread('E:\\\\Diamond\\\\cues\\\\black.png')\n",
    "        ax.clear()\n",
    "        ax.imshow(img)\n",
    "        fig.canvas.draw()\n",
    "        plt.pause(pltpause)\n",
    "        filewrite.write('rest,' + str(datetime.datetime.now()) + '\\n')\n",
    "        \n",
    "        print ('rest1', datetime.datetime.now())\n",
    "        print ('_classes', _classes[n])\n",
    "        rest_exed = 1\n",
    "        \n",
    "    if cross_exed == 1 and cue_exed==1 and rest_exed == 1:\n",
    "        cross = rest + datetime.timedelta(0,randint(0,5)/10 + 6)\n",
    "        cue = cross + datetime.timedelta(0,1)\n",
    "        rest = cue + datetime.timedelta(0,4)\n",
    "        \n",
    "        cross_exed = 0\n",
    "        cue_exed = 0\n",
    "        rest_exed = 0\n",
    "        \n",
    "       \n",
    "        n = n +1\n",
    "        print (n)\n",
    "        \n",
    "        \n",
    "filewrite.close()\n",
    "s.close()\n",
    "\n",
    "end = 1\n",
    "if end == 1:\n",
    "    endgame = open(fileroot + 'endgame.txt','w')\n",
    "    endgame.write('1')\n",
    "    endgame.close()"
   ]
  },
  {
   "cell_type": "code",
   "execution_count": 52,
   "metadata": {},
   "outputs": [
    {
     "ename": "NameError",
     "evalue": "name 'j' is not defined",
     "output_type": "error",
     "traceback": [
      "\u001b[1;31m---------------------------------------------------------------------------\u001b[0m",
      "\u001b[1;31mNameError\u001b[0m                                 Traceback (most recent call last)",
      "\u001b[1;32m<ipython-input-52-3eedd8854d1e>\u001b[0m in \u001b[0;36m<module>\u001b[1;34m\u001b[0m\n\u001b[1;32m----> 1\u001b[1;33m \u001b[0mj\u001b[0m\u001b[1;33m\u001b[0m\u001b[1;33m\u001b[0m\u001b[0m\n\u001b[0m",
      "\u001b[1;31mNameError\u001b[0m: name 'j' is not defined"
     ]
    }
   ],
   "source": [
    "j"
   ]
  },
  {
   "cell_type": "code",
   "execution_count": 336,
   "metadata": {},
   "outputs": [
    {
     "name": "stdout",
     "output_type": "stream",
     "text": [
      "shit\n"
     ]
    }
   ],
   "source": [
    "plt.ion()\n",
    "fig = plt.figure()\n",
    "ax = fig.add_subplot(1,1,1)\n",
    "fig.canvas.draw()\n",
    "t0 = datetime.datetime.now()\n",
    "img = mpimg.imread('E:\\\\Diamond\\\\cues\\\\feet.png')\n",
    "ax.imshow(img)\n",
    "fig.show()\n",
    "\n",
    "plotted = 0\n",
    "while (datetime.datetime.now()-t0).total_seconds() < 5:\n",
    "    if plotted == 0 and (datetime.datetime.now()-t0).total_seconds() > 2:\n",
    "        ax.clear()\n",
    "        img = mpimg.imread('E:\\\\Diamond\\\\cues\\\\feet.png')\n",
    "        print('shit')\n",
    "        ax.imshow(img)\n",
    "        plotted = 1\n",
    "        fig.canvas.draw()\n",
    "\n"
   ]
  },
  {
   "cell_type": "code",
   "execution_count": 16,
   "metadata": {},
   "outputs": [],
   "source": [
    "#plt.ion()\n",
    "\n",
    "fig = plt.figure()\n",
    "ax = fig.add_subplot(1,1,1)\n",
    "fig.canvas.draw()\n",
    "\n",
    "\n",
    "img1 = mpimg.imread('E:\\\\Diamond\\\\cues\\\\feet.png')\n",
    "img2 = mpimg.imread('E:\\\\Diamond\\\\cues\\\\black.png')\n",
    "\n",
    "\n",
    "ax.imshow(img1)\n",
    "fig.canvas.draw()\n",
    "\n",
    "plt.pause(0.1)\n",
    "\n",
    "ax.clear()\n",
    "ax.imshow(img2)\n",
    "fig.canvas.draw()"
   ]
  },
  {
   "cell_type": "code",
   "execution_count": 345,
   "metadata": {},
   "outputs": [
    {
     "name": "stdout",
     "output_type": "stream",
     "text": [
      "Using matplotlib backend: Qt5Agg\n"
     ]
    }
   ],
   "source": [
    "%matplotlib auto"
   ]
  },
  {
   "cell_type": "code",
   "execution_count": 303,
   "metadata": {},
   "outputs": [
    {
     "name": "stdout",
     "output_type": "stream",
     "text": [
      "Using matplotlib backend: Qt5Agg\n"
     ]
    }
   ],
   "source": [
    "%matplotlib\n",
    "fig = plt.figure()\n",
    "ax = fig.add_subplot(1,1,1)\n",
    "img = mpimg.imread('E:\\\\Diamond\\\\cues\\\\feet.png')\n",
    "ax.imshow(img)\n",
    "fig.show()"
   ]
  },
  {
   "cell_type": "code",
   "execution_count": 274,
   "metadata": {},
   "outputs": [
    {
     "data": {
      "text/plain": [
       "array([[[0., 0., 0., 1.],\n",
       "        [0., 0., 0., 1.],\n",
       "        [0., 0., 0., 1.],\n",
       "        ...,\n",
       "        [0., 0., 0., 1.],\n",
       "        [0., 0., 0., 1.],\n",
       "        [0., 0., 0., 1.]],\n",
       "\n",
       "       [[0., 0., 0., 1.],\n",
       "        [0., 0., 0., 1.],\n",
       "        [0., 0., 0., 1.],\n",
       "        ...,\n",
       "        [0., 0., 0., 1.],\n",
       "        [0., 0., 0., 1.],\n",
       "        [0., 0., 0., 1.]],\n",
       "\n",
       "       [[0., 0., 0., 1.],\n",
       "        [0., 0., 0., 1.],\n",
       "        [0., 0., 0., 1.],\n",
       "        ...,\n",
       "        [0., 0., 0., 1.],\n",
       "        [0., 0., 0., 1.],\n",
       "        [0., 0., 0., 1.]],\n",
       "\n",
       "       ...,\n",
       "\n",
       "       [[0., 0., 0., 1.],\n",
       "        [0., 0., 0., 1.],\n",
       "        [0., 0., 0., 1.],\n",
       "        ...,\n",
       "        [0., 0., 0., 1.],\n",
       "        [0., 0., 0., 1.],\n",
       "        [0., 0., 0., 1.]],\n",
       "\n",
       "       [[0., 0., 0., 1.],\n",
       "        [0., 0., 0., 1.],\n",
       "        [0., 0., 0., 1.],\n",
       "        ...,\n",
       "        [0., 0., 0., 1.],\n",
       "        [0., 0., 0., 1.],\n",
       "        [0., 0., 0., 1.]],\n",
       "\n",
       "       [[0., 0., 0., 1.],\n",
       "        [0., 0., 0., 1.],\n",
       "        [0., 0., 0., 1.],\n",
       "        ...,\n",
       "        [0., 0., 0., 1.],\n",
       "        [0., 0., 0., 1.],\n",
       "        [0., 0., 0., 1.]]], dtype=float32)"
      ]
     },
     "execution_count": 274,
     "metadata": {},
     "output_type": "execute_result"
    }
   ],
   "source": [
    "img"
   ]
  },
  {
   "cell_type": "code",
   "execution_count": 244,
   "metadata": {},
   "outputs": [
    {
     "data": {
      "text/plain": [
       "[0, 1, 0, 1]"
      ]
     },
     "execution_count": 244,
     "metadata": {},
     "output_type": "execute_result"
    }
   ],
   "source": [
    "_classes"
   ]
  },
  {
   "cell_type": "code",
   "execution_count": 239,
   "metadata": {},
   "outputs": [
    {
     "data": {
      "text/plain": [
       "<matplotlib.image.AxesImage at 0x22702889ef0>"
      ]
     },
     "execution_count": 239,
     "metadata": {},
     "output_type": "execute_result"
    },
    {
     "data": {
      "image/png": "[encoded data removed]",
      "text/plain": [
       "<Figure size 432x288 with 1 Axes>"
      ]
     },
     "metadata": {
      "needs_background": "light"
     },
     "output_type": "display_data"
    }
   ],
   "source": [
    "import matplotlib.image as mpimg\n",
    "img = mpimg.imread('E:\\\\Diamond\\\\cues\\\\fixation.png')\n",
    "plt.figure(1)\n",
    "\n",
    "plt.imshow(img)\n",
    "\n",
    "plt.clf()\n",
    "img = mpimg.imread('E:\\\\Diamond\\\\cues\\\\feet.png')\n",
    "plt.imshow(img)\n",
    "\n"
   ]
  },
  {
   "cell_type": "code",
   "execution_count": 228,
   "metadata": {},
   "outputs": [],
   "source": []
  },
  {
   "cell_type": "code",
   "execution_count": 169,
   "metadata": {},
   "outputs": [
    {
     "data": {
      "text/plain": [
       "datetime.datetime(2019, 7, 13, 22, 1, 18, 121353)"
      ]
     },
     "execution_count": 169,
     "metadata": {},
     "output_type": "execute_result"
    }
   ],
   "source": [
    "rest"
   ]
  },
  {
   "cell_type": "code",
   "execution_count": 115,
   "metadata": {},
   "outputs": [
    {
     "name": "stdout",
     "output_type": "stream",
     "text": [
      "cue\n"
     ]
    },
    {
     "name": "stderr",
     "output_type": "stream",
     "text": [
      "Exception in thread Thread-8:\n",
      "Traceback (most recent call last):\n",
      "  File \"D:\\THINKPAD\\Anaconda3\\lib\\threading.py\", line 917, in _bootstrap_inner\n",
      "    self.run()\n",
      "  File \"D:\\THINKPAD\\Anaconda3\\lib\\threading.py\", line 1158, in run\n",
      "    self.function(*self.args, **self.kwargs)\n",
      "TypeError: 'NoneType' object is not callable\n",
      "\n"
     ]
    }
   ],
   "source": [
    "timer = threading.Timer(10000, print('cue'))\n",
    "timer.start()"
   ]
  },
  {
   "cell_type": "code",
   "execution_count": 116,
   "metadata": {},
   "outputs": [
    {
     "data": {
      "text/plain": [
       "datetime.datetime(2019, 5, 26, 14, 37, 2, 895526)"
      ]
     },
     "execution_count": 116,
     "metadata": {},
     "output_type": "execute_result"
    }
   ],
   "source": [
    "cue"
   ]
  },
  {
   "cell_type": "code",
   "execution_count": 111,
   "metadata": {},
   "outputs": [
    {
     "data": {
      "text/plain": [
       "datetime.datetime(2019, 5, 26, 14, 37, 0, 895526)"
      ]
     },
     "execution_count": 111,
     "metadata": {},
     "output_type": "execute_result"
    }
   ],
   "source": [
    "t0"
   ]
  },
  {
   "cell_type": "code",
   "execution_count": 101,
   "metadata": {},
   "outputs": [
    {
     "data": {
      "text/plain": [
       "4.0"
      ]
     },
     "execution_count": 101,
     "metadata": {},
     "output_type": "execute_result"
    }
   ],
   "source": [
    "np.abs((datetime.datetime.now() - (datetime.datetime.now()+datetime.timedelta(0,4))).total_seconds())"
   ]
  },
  {
   "cell_type": "code",
   "execution_count": 89,
   "metadata": {},
   "outputs": [],
   "source": [
    "x=datetime.datetime.today()\n",
    "y=x.replace(day=x.day+1, hour=1, minute=0, second=0, microsecond=0)"
   ]
  },
  {
   "cell_type": "code",
   "execution_count": 90,
   "metadata": {},
   "outputs": [
    {
     "data": {
      "text/plain": [
       "datetime.datetime(2019, 5, 26, 14, 26, 33, 392018)"
      ]
     },
     "execution_count": 90,
     "metadata": {},
     "output_type": "execute_result"
    }
   ],
   "source": [
    "x"
   ]
  },
  {
   "cell_type": "code",
   "execution_count": 91,
   "metadata": {},
   "outputs": [
    {
     "data": {
      "text/plain": [
       "datetime.datetime(2019, 5, 27, 1, 0)"
      ]
     },
     "execution_count": 91,
     "metadata": {},
     "output_type": "execute_result"
    }
   ],
   "source": [
    "y"
   ]
  },
  {
   "cell_type": "code",
   "execution_count": 64,
   "metadata": {},
   "outputs": [
    {
     "data": {
      "text/plain": [
       "datetime.datetime(2019, 5, 26, 14, 19, 8, 155356)"
      ]
     },
     "execution_count": 64,
     "metadata": {},
     "output_type": "execute_result"
    }
   ],
   "source": [
    "t0 + datetime.timedelta(0,60)"
   ]
  },
  {
   "cell_type": "code",
   "execution_count": 65,
   "metadata": {},
   "outputs": [
    {
     "data": {
      "text/plain": [
       "datetime.datetime(2019, 5, 26, 14, 18, 8, 155356)"
      ]
     },
     "execution_count": 65,
     "metadata": {},
     "output_type": "execute_result"
    }
   ],
   "source": [
    "t0"
   ]
  },
  {
   "cell_type": "code",
   "execution_count": 49,
   "metadata": {},
   "outputs": [
    {
     "name": "stdout",
     "output_type": "stream",
     "text": [
      "5.000638 2019-05-26 14:10:15.671486\n"
     ]
    }
   ],
   "source": [
    "t0 = datetime.datetime.now()\n",
    "dt = (datetime.datetime.now() - t0)\n",
    "while dt.total_seconds()  <= 5:\n",
    "    dt = (datetime.datetime.now() - t0)\n",
    "print (dt.total_seconds(), datetime.datetime.now())"
   ]
  },
  {
   "cell_type": "code",
   "execution_count": 50,
   "metadata": {},
   "outputs": [
    {
     "data": {
      "text/plain": [
       "datetime.datetime(2019, 5, 26, 14, 10, 10, 670848)"
      ]
     },
     "execution_count": 50,
     "metadata": {},
     "output_type": "execute_result"
    }
   ],
   "source": [
    "t0"
   ]
  },
  {
   "cell_type": "code",
   "execution_count": 48,
   "metadata": {},
   "outputs": [
    {
     "data": {
      "text/plain": [
       "datetime.datetime(2019, 5, 26, 14, 7, 49, 772658)"
      ]
     },
     "execution_count": 48,
     "metadata": {},
     "output_type": "execute_result"
    }
   ],
   "source": [
    "t0."
   ]
  },
  {
   "cell_type": "code",
   "execution_count": null,
   "metadata": {},
   "outputs": [],
   "source": []
  }
 ],
 "metadata": {
  "kernelspec": {
   "display_name": "Python 3",
   "language": "python",
   "name": "python3"
  },
  "language_info": {
   "codemirror_mode": {
    "name": "ipython",
    "version": 3
   },
   "file_extension": ".py",
   "mimetype": "text/x-python",
   "name": "python",
   "nbconvert_exporter": "python",
   "pygments_lexer": "ipython3",
   "version": "3.7.1"
  }
 },
 "nbformat": 4,
 "nbformat_minor": 2
}
