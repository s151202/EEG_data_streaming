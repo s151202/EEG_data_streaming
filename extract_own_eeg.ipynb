{
 "cells": [
  {
   "cell_type": "code",
   "execution_count": 1,
   "metadata": {},
   "outputs": [],
   "source": [
    "import sys\n",
    "import pickle\n",
    "from scipy import signal\n",
    "from scipy import stats\n",
    "import numpy as np\n",
    "import math\n",
    "from collections import OrderedDict\n",
    "\n",
    "\n",
    "import matplotlib.pyplot as plt\n",
    "\n",
    "sys.path.append('D:\\Diamond\\code')\n",
    "from csp_james_2 import *\n",
    "\n",
    "sys.path.append('D:\\Diamond\\code')\n",
    "from thesis_funcs_19_03 import *\n",
    "\n",
    "import csv\n",
    "from random import randint\n",
    "import random\n",
    "import datetime\n",
    "import scipy\n",
    "import pandas as pd"
   ]
  },
  {
   "cell_type": "code",
   "execution_count": 21,
   "metadata": {},
   "outputs": [],
   "source": [
    "def locate_mi_cues_from_csv (csv):\n",
    "    \n",
    "    \"\"\"\n",
    "    find the start of MI cue in the csv file of eeg recording, created by Openvibe streaming g.tecUSBamp\n",
    "    take in a csv file opened by pandas. look into the 'Event Id' column, find the code corresponding to MI. \\\n",
    "    codes are found from http://openvibe.inria.fr/stimulation-codes/\n",
    "    \n",
    "    INPUT:\n",
    "        csv opened by pd.readcsv(csv_path)\n",
    "    OUTPUT:\n",
    "        HEADS:\n",
    "            the start of MI cue, index of csv row (representing timestamp). It is the cue onset, meaning actual MI is about 0.5s after.\n",
    "            e.g. [12826 18606 24343 30128 35965 41849 47740 53424 59209 64995 70884 76515 82199 87882]\n",
    "        LABELS:\n",
    "            the label(class) of the MI cue. np.array, e.g. [2 2 2 1 2 1 1 1 1 2 2 1 1 2]\n",
    "    \"\"\"\n",
    "\n",
    "    HEADS =[] #the timepoint index that mark the cue\n",
    "    LABELS = [] #the class of MI, 1 is left hand, 2 is right hand\n",
    "\n",
    "    for row in range (0, csv.last_valid_index()):\n",
    "        try:\n",
    "            Event_id = str( csv['Event Id'][row])\n",
    "            if Event_id != 'nan':\n",
    "                if ('1090' in Event_id) != ('1089' in Event_id):\n",
    "                    if ('1090' in Event_id):\n",
    "                        #print (row, Event_id, 'right hand')\n",
    "                        HEADS.append(row)\n",
    "                        LABELS.append(2)\n",
    "                    if ('1089' in Event_id):\n",
    "                        #print (row, Event_id, 'left hand')\n",
    "                        HEADS.append(row)\n",
    "                        LABELS.append(1)\n",
    "                else:\n",
    "                    print (row, 'yo', Event_id)\n",
    "        except:\n",
    "                print ('ummm', row, csv['Event Id'][row])\n",
    "\n",
    "    HEADS = np.array(HEADS)\n",
    "    LABELS = np.array(LABELS)\n",
    "    \n",
    "    return HEADS, LABELS"
   ]
  },
  {
   "cell_type": "code",
   "execution_count": 40,
   "metadata": {},
   "outputs": [
    {
     "name": "stdout",
     "output_type": "stream",
     "text": [
      "1\n",
      "14\n",
      "2\n",
      "14\n",
      "3\n",
      "15\n",
      "4\n",
      "14\n",
      "5\n",
      "15\n",
      "6\n",
      "14\n",
      "7\n",
      "14\n",
      "8\n",
      "14\n",
      "9\n",
      "14\n",
      "10\n",
      "14\n"
     ]
    }
   ],
   "source": [
    "sub_id = 's2'\n",
    "record_names = np.arange(1,11) #usually the number of recordings\n",
    "\n",
    "mi_period = 4 + 0.5 #4 seconds of mi (from cue onset) + 0.5 seconds extra tail for filter effect\n",
    "fs = 512 #sampling frequency is 512 Hz for the g.tec system\n",
    "\n",
    "\n",
    "#FILE repository in which the recordings(signals) are stored\n",
    "raw_eeg_root = 'E:\\\\Diamond\\\\own_expo\\\\pilot_test\\\\' + sub_id + '\\\\signals\\\\'\n",
    "\n",
    "\n",
    "\n",
    "for r in record_names:\n",
    "    print (r)\n",
    "    #the path to the recording\n",
    "    raw_record = raw_eeg_root + 'record' + str(r) + '.csv'\n",
    "    \n",
    "    #open csv\n",
    "    csv = pd.read_csv(raw_record)\n",
    "    #csv.keys()\n",
    "    \n",
    "    #extract EEG voltages from 16 channels (from colum 2 to -3 in the csv file)\n",
    "    EEG_raw = np.transpose(csv.get_values()[:,2:-3].astype('float64')) #each row is a channel, each column is a timepoint. take only field 2:-3 so remove timestamp and epoch, and event infos, so we get only the eeg voltages\n",
    "\n",
    "    #locate the onset of cues in the csv file (HEADS) and the class label (LABELS)\n",
    "    HEADS, Labels = locate_mi_cues_from_csv (csv)\n",
    "    #print (len(Labels))\n",
    "    \n",
    "    #extract MI eeg signals,  np.shape(EEG_MI_raw) = [num_runs, num_channels, num_timepoints], e.g. [14, 16, 2304]\n",
    "    EEG_MI_raw = []\n",
    "    for h in HEADS:\n",
    "        EEG_MI_raw.append(EEG_raw[:, h : int(h+mi_period*fs)])\n",
    "    EEG_MI_raw = np.array(EEG_MI_raw)\n",
    "\n",
    "    #concatenate the EEG_MI_raw and Labels for this subject, from all her trials\n",
    "    if r == record_names[0]:\n",
    "        EEG_MI_RAW = EEG_MI_raw\n",
    "        LABELS = Labels\n",
    "    else:\n",
    "        EEG_MI_RAW = np.concatenate((EEG_MI_RAW, EEG_MI_raw), axis = 0)\n",
    "        LABELS = np.concatenate((LABELS, Labels), axis = 0)\n",
    "\n",
    "\n",
    "#save the concatenated raw eeg mi signals and labels for a subject's trials        \n",
    "pickle.dump( EEG_MI_RAW, open( raw_eeg_root + sub_id + \".pickle\", \"wb\" ) )\n",
    "pickle.dump( LABELS, open( raw_eeg_root + sub_id + \"_LABELS.pickle\", \"wb\" ) )"
   ]
  },
  {
   "cell_type": "code",
   "execution_count": 96,
   "metadata": {},
   "outputs": [
    {
     "name": "stdout",
     "output_type": "stream",
     "text": [
      "21606  right hand\n",
      "27430  right hand\n",
      "33067  right hand\n",
      "38912  left hand\n",
      "44536  right hand\n",
      "50167  left hand\n",
      "55798  left hand\n",
      "61543  left hand\n",
      "67322  left hand\n",
      "73209  right hand\n",
      "79095  right hand\n",
      "84731  left hand\n",
      "90413  left hand\n",
      "96199  right hand\n"
     ]
    }
   ],
   "source": [
    "#NOT USED BECAUSE A SHORTER SOLUTION FOUND\n",
    "\n",
    "\"\"\" \n",
    "\n",
    "for row in range (0, csv.last_valid_index()):\n",
    "    try:\n",
    "        event_id = float(csv['Event Id'][row])\n",
    "        if math.isnan(event_id) == False:\n",
    "            if int(event_id) == 1090:\n",
    "                print (row, ' right hand')\n",
    "            elif int(event_id) == 1089:\n",
    "                print (row, ' left hand')\n",
    "        \n",
    "    except:\n",
    "        if isinstance(csv['Event Id'][row], str):\n",
    "            try: \n",
    "                event_ids = csv['Event Id'][row].split(':')\n",
    "                for i in range (0, len(event_ids)):\n",
    "                    event_ids[i] = event_ids[i].strip()\n",
    "                if ('1090' in event_ids) != ('1089' in event_ids):\n",
    "                    if '1090' in event_ids:\n",
    "                        print (row, ' right hand')\n",
    "                    \n",
    "                    elif '1089' in event_ids:\n",
    "                        print (row, ' left hand')\n",
    "                else:\n",
    "                    print (row, ' umm, ', event_ids)\n",
    "                \n",
    "            except:\n",
    "                print (row, ' : not in Event_Id')\n",
    "                print (csv['Event Id'][row])\n",
    "    \n",
    "        \n",
    "\n",
    "\"\"\"     "
   ]
  },
  {
   "cell_type": "code",
   "execution_count": 46,
   "metadata": {},
   "outputs": [
    {
     "data": {
      "text/plain": [
       "[<matplotlib.lines.Line2D at 0x217b3fe22b0>]"
      ]
     },
     "execution_count": 46,
     "metadata": {},
     "output_type": "execute_result"
    },
    {
     "data": {
      "image/png": "[encoded data removed]",
      "text/plain": [
       "<Figure size 432x288 with 1 Axes>"
      ]
     },
     "metadata": {
      "needs_background": "light"
     },
     "output_type": "display_data"
    }
   ],
   "source": [
    "plt.plot(EEG_MI_RAW[0][0])"
   ]
  },
  {
   "cell_type": "code",
   "execution_count": null,
   "metadata": {},
   "outputs": [],
   "source": []
  }
 ],
 "metadata": {
  "kernelspec": {
   "display_name": "Python 3",
   "language": "python",
   "name": "python3"
  },
  "language_info": {
   "codemirror_mode": {
    "name": "ipython",
    "version": 3
   },
   "file_extension": ".py",
   "mimetype": "text/x-python",
   "name": "python",
   "nbconvert_exporter": "python",
   "pygments_lexer": "ipython3",
   "version": "3.7.1"
  }
 },
 "nbformat": 4,
 "nbformat_minor": 2
}
