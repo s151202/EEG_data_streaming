{
 "cells": [
  {
   "cell_type": "code",
   "execution_count": 1,
   "metadata": {},
   "outputs": [],
   "source": [
    "import sys\n",
    "import pickle\n",
    "from scipy import signal\n",
    "from scipy import stats\n",
    "import numpy as np\n",
    "from sklearn.model_selection import ShuffleSplit\n",
    "from sklearn.metrics import cohen_kappa_score\n",
    "\n",
    "import math\n",
    "from collections import OrderedDict\n",
    "\n",
    "\n",
    "import matplotlib.pyplot as plt\n",
    "\n",
    "sys.path.append('D:\\Diamond\\code')\n",
    "from csp_james_2 import *\n",
    "\n",
    "sys.path.append('D:\\Diamond\\code')\n",
    "from thesis_funcs_19_03 import *\n",
    "\n",
    "import torch\n",
    "import torch.nn as nn\n",
    "import torch.nn.functional as nnF\n",
    "import torch.optim as optim\n",
    "from torch.autograd import Variable\n",
    "from torch.optim import lr_scheduler\n",
    "\n",
    "import csv\n",
    "import datetime\n"
   ]
  },
  {
   "cell_type": "code",
   "execution_count": 2,
   "metadata": {},
   "outputs": [],
   "source": [
    "meth = 'gold_stand' #gold_stand，tl_comp_csp_kld , tl_comp_csp_mi\n",
    "#raw_data_root = 'E:\\\\Diamond\\\\bci_iv\\\\DATA\\\\2a\\\\extract_raw\\\\'\n",
    "config_root= 'E:\\\\Diamond\\\\bci_iv\\\\MODELS\\\\fbcsp_mibif_cnn\\\\2a\\\\configs\\\\'\n",
    "\n",
    "feature_root = 'E:\\\\Diamond\\\\own_expo\\\\pilot_test\\\\'\n",
    "model_root = feature_root\n",
    "save_root = model_root + 'eval\\\\'\n",
    "\n",
    "\n",
    "#load in cv config grid\n",
    "hp_names  =[] #all the hyper-parameter names to be validated\n",
    "with open(config_root +'cv_config.csv', mode = 'r') as csv_file:\n",
    "    csv_reader = csv.reader(csv_file, delimiter = ',')\n",
    "    for row in csv_reader:\n",
    "        hp_names.append((row[0]).strip())\n",
    "\n",
    "with open(config_root +'_lambda_config.csv', mode = 'r') as csv_file:\n",
    "    csv_reader = csv.reader(csv_file, delimiter = ',')\n",
    "    for row in csv_reader:\n",
    "        hp_names.append((row[0]).strip())\n",
    "csv_file.close()\n",
    "\n",
    "\n",
    "\n",
    "num_inits = 5\n",
    "k_fold = 5\n",
    "\n",
    "# initialize csp\n",
    "m = 2# m is Nw in the paper \"learning temporal information for brain-copmuter interface, Sakhavi et.al\"\n",
    "n_components = 2 * m  # pick some components\n",
    "down_sample_step = 10 #Hilbert evelope\n",
    "# select Ns pairs of csp filters\n",
    "Ns = 4\n",
    "\n",
    "CLASSES =[0,1]\n",
    "\n",
    "C_OVR = [0,1]\n",
    "\n",
    "balance_classes = 1\n",
    "\n",
    "########################################################################################################################\n",
    "                                            # DEFINE FILTER BANK\n",
    "########################################################################################################################\n",
    "#Filter Bank\n",
    "FB = [[4., 8.], [8., 12.], [12., 16.], [16., 20.], [20., 24.], [24., 28.], [28., 32.], [32., 36.], [36., 40.]]\n",
    "FB = np.array(FB)\n",
    "\n",
    "#argumaents for Chebyl II filtering\n",
    "# Nyquist frequency\n",
    "\n",
    "# min. attenuation in stop band\n",
    "gstop = 45\n",
    "# max. attenuation in passband\n",
    "gpass= 5\n",
    "\n",
    "#EEG_PERIOD = [[0.5,4]]\n",
    "FS = [512]\n",
    "\n",
    "\n"
   ]
  },
  {
   "cell_type": "code",
   "execution_count": 3,
   "metadata": {},
   "outputs": [],
   "source": [
    "to_save = 1\n",
    "\n",
    "Signal_lens = ['05_15', '10_20', '15_25', '20_30', '25_35', '30_40'] + ['05_25', '10_30', '15_35', '20_40']\n",
    "\n",
    "#csp_from = \"own_csp\\\\\"\n",
    "csp_from = \"carryover_4s_csp\\\\\""
   ]
  },
  {
   "cell_type": "code",
   "execution_count": 4,
   "metadata": {},
   "outputs": [
    {
     "data": {
      "text/plain": [
       "'E:\\\\Diamond\\\\own_expo\\\\pilot_test\\\\eval\\\\'"
      ]
     },
     "execution_count": 4,
     "metadata": {},
     "output_type": "execute_result"
    }
   ],
   "source": [
    "save_root  "
   ]
  },
  {
   "cell_type": "code",
   "execution_count": 5,
   "metadata": {},
   "outputs": [
    {
     "name": "stderr",
     "output_type": "stream",
     "text": [
      "D:\\THINKPAD\\Anaconda3\\lib\\site-packages\\scipy\\signal\\_arraytools.py:45: FutureWarning: Using a non-tuple sequence for multidimensional indexing is deprecated; use `arr[tuple(seq)]` instead of `arr[seq]`. In the future this will be interpreted as an array index, `arr[np.array(seq)]`, which will result either in an error or a different result.\n",
      "  b = a[a_slice]\n",
      "D:\\THINKPAD\\Anaconda3\\lib\\site-packages\\scipy\\signal\\signaltools.py:1593: FutureWarning: Using a non-tuple sequence for multidimensional indexing is deprecated; use `arr[tuple(seq)]` instead of `arr[seq]`. In the future this will be interpreted as an array index, `arr[np.array(seq)]`, which will result either in an error or a different result.\n",
      "  h = h[ind]\n",
      "D:\\Diamond\\code\\thesis_funcs_19_03.py:1510: UserWarning: Implicit dimension choice for softmax has been deprecated. Change the call to include dim=X as an argument.\n",
      "  x = nnF.softmax(self.fc3(x))\n"
     ]
    },
    {
     "name": "stdout",
     "output_type": "stream",
     "text": [
      "s3 [0.8        0.76666667] 0.7833333333333334\n",
      "s3 [0.76666667 0.7       ] 0.7333333333333334\n",
      "s3 [0.83333333 0.53333333] 0.6833333333333333\n",
      "s3 [0.76666667 0.83333333] 0.8\n",
      "s3 [0.53333333 0.83333333] 0.6833333333333333\n",
      "s3 [0.86666667 0.56666667] 0.7166666666666667\n",
      "s3 [0.83333333 0.8       ] 0.8166666666666667\n",
      "s3 [0.86666667 0.66666667] 0.7666666666666666\n",
      "s3 [0.7        0.86666667] 0.7833333333333333\n",
      "s3 [0.76666667 0.9       ] 0.8333333333333334\n"
     ]
    }
   ],
   "source": [
    "for signal_len in Signal_lens:\n",
    "\n",
    "    for portion_train in [1]:\n",
    "        if to_save == 1:\n",
    "            filewrite = open(save_root + csp_from + signal_len + '_' + str(int(portion_train*100))+'_best_config_eval_acc_all_subjects.txt', 'w')\n",
    "            filewrite.write('')\n",
    "            filewrite.close()\n",
    "\n",
    "            filewrite = open(save_root + csp_from + signal_len + '_' + str(int(portion_train*100))+'_best_config_eval_acc_all_subjects.txt', 'a')\n",
    "            filewrite.write('subject, ')\n",
    "            for f in range (0, len(C_OVR)-1):\n",
    "                filewrite.write('class '+ str(C_OVR[f]+1) + ', ')\n",
    "            filewrite.write('class ' + str(C_OVR[-1]+1) + ', average'+ ', best_model_init_fold\\n')\n",
    "\n",
    "\n",
    "        for subject in range (3,4):\n",
    "\n",
    "            sub_id = 's' + str(subject)\n",
    "\n",
    "            #eeg_period = EEG_PERIOD[0]\n",
    "            eeg_period = signal_len_to_eeg_period(signal_len)\n",
    "            fs = FS[0]\n",
    "\n",
    "\n",
    "            #csp_from is where the csp is from, using its own csp for eeg_period seconds, or 4s_carryover_csp\n",
    "            file_root_feature =  feature_root + sub_id + '\\\\models\\\\' + csp_from + signal_len + '\\\\pt_' + str(int(portion_train*100))\n",
    "            file_root_model = model_root + sub_id + '\\\\models\\\\' + csp_from + signal_len + '\\\\pt_' + str(int(portion_train*100))\n",
    "            \n",
    "\n",
    "            ###################################################################################################################\n",
    "                            #load best config\n",
    "            ###################################################################################################################\n",
    "            #load in best config line\n",
    "            config_file = open(file_root_model + '\\\\ANN\\\\best_config_val.txt', 'r')\n",
    "            config_log= config_file.readlines()\n",
    "            config_file.close()\n",
    "            for i in range (0,len(config_log)):\n",
    "                line  = config_log[(i + 1) * -1]\n",
    "                if '_act_fun_' in line: #and  line.split(' ')[0].split('_lambda_')[1] == '0':\n",
    "                    break\n",
    "\n",
    "            #extract best config values and make into dictionary\n",
    "            config = OrderedDict()\n",
    "            for hp_ind in range(0, len(hp_names)-1):\n",
    "                config[hp_names[hp_ind]] =  (line.split(hp_names[hp_ind] + '_')[1].split('_'+hp_names[hp_ind+1]+'_')[0])\n",
    "            config[hp_names[-1]] = line.split(hp_names[-1]+'_')[1].split(' ')[0]\n",
    "\n",
    "\n",
    "            \n",
    "            ## LOAD in raw EEG(MI) portion and LABELS\n",
    "            EEG_MI_RAW_load = pickle.load(open( 'E:\\\\Diamond\\\\own_expo\\\\pilot_test\\\\' + sub_id + '\\\\signals\\\\' + sub_id + \".pickle\", \"rb\" ) )\n",
    "            LABELS_load = pickle.load(open( 'E:\\\\Diamond\\\\own_expo\\\\pilot_test\\\\' + sub_id + '\\\\signals\\\\' + sub_id + \"_LABELS.pickle\", \"rb\" ) )\n",
    "            #seperate the raw EEG into training and evaluaiton sets\n",
    "            EEG_MI_RAW_T, LABELS_load_T, EEG_MI_RAW_E, LABELS_load_E= seperate_train_eval_ind(EEG_MI_RAW_load, LABELS_load)\n",
    "            LABELS = LABELS_load_E - 1\n",
    "            EEG_extract_raw = EEG_MI_RAW_E\n",
    "            ########################################################################################################################\n",
    "                                        #APPLY FILTER BANK\n",
    "            ########################################################################################################################\n",
    "            #Store Filter bank filtered raw EEG data, in the shape of num_filter_bank X num_trials X num_chanl X num_samples\n",
    "            #initiate empty matrix\n",
    "            EEG_filt_FB_L = np.empty( [len(FB), \n",
    "                                     np.shape(EEG_extract_raw)[0], np.shape(EEG_extract_raw)[1],np.shape(EEG_extract_raw)[2]] )\n",
    "\n",
    "            Nf = fs / 2.\n",
    "            for fb in range (0, len(FB)):\n",
    "                passband = FB[fb]\n",
    "                stopband = FB[fb] + np.array([-2., +2.])\n",
    "\n",
    "                EEG_filt_FB_L[fb] = filter_signal(EEG_extract_raw, passband, stopband, Nf, gpass, gstop)\n",
    "\n",
    "\n",
    "            EEG_filt_FB = EEG_filt_FB_L\n",
    "\n",
    "            #trake only the MI 3.5 seconds\n",
    "            EEG_filt_FB_go = EEG_filt_FB[:,:,:,int(eeg_period[0]*fs):int(eeg_period[1]*fs)]\n",
    "            LABELS0_go = LABELS.copy()\n",
    "            LABELS0 = LABELS0_go\n",
    "\n",
    "            ###########################################################################################################################\n",
    "\n",
    "            pred_indi = []\n",
    "            ############################################################################################################################\n",
    "            OUT = 0\n",
    "\n",
    "            best_mod_acc_prod = 0 #initialise best model average class acc\n",
    "            best_mod_kappa = -2\n",
    "            best_model = [0,0] #which model performs the best? model id, init = best_model[0], fold = best_model[1]\n",
    "\n",
    "            for fold in range (0, k_fold):\n",
    "                #print ('fold', fold)\n",
    "\n",
    "                pred_indi.append([])\n",
    "\n",
    "                for c_ovr in C_OVR:\n",
    "                    #print (c_ovr)\n",
    "                    #load in csp filters and mutual informtaion ranked indicies\n",
    "                    W_B = pickle.load(open( file_root_feature +'\\\\W_B_fold_' + str(fold) + \n",
    "                                               '_c_ovr_' + str(c_ovr) + '_lambda_' + str(float(config['_lambda'])) + \n",
    "                                               \".pickle\", 'rb'))\n",
    "\n",
    "\n",
    "                    FB_FILTER_IND = pickle.load(open( file_root_feature +  '\\\\FB_FILTER_IND_fold_' + str(fold) + \n",
    "                                               '_c_ovr_' + str(c_ovr) + '_lambda_' + str(float(config['_lambda'])) + \n",
    "                                               \".pickle\", 'rb'))\n",
    "\n",
    "                    #find the selected csp filters indicies\n",
    "                    FB_FILTER_IND_slt = find_selected_csp_filters(Ns, m, FB_FILTER_IND)\n",
    "\n",
    "                    #construct selected csp filters, W_B_slt has shape (2*Ns, num_chls), (8,22) for example\n",
    "                    W_B_slt = W_B[FB_FILTER_IND_slt[:,0], :, FB_FILTER_IND_slt[:,1]]\n",
    "\n",
    "                    EEG_FB_slt = EEG_filt_FB_go[FB_FILTER_IND_slt[:,0],:]\n",
    "\n",
    "                    #transform into z space, then take the hilbert envelope of the transformed signal\n",
    "                    Z_env = calc_z_features(W_B_slt, EEG_FB_slt, Ns, down_sample_step)\n",
    "\n",
    "                    #concatenate all classes\n",
    "                    if c_ovr == C_OVR[0]:\n",
    "                        Z_all_eval = Z_env\n",
    "                    else:\n",
    "                        Z_all_eval = np.concatenate((Z_all_eval, Z_env), axis = 0)\n",
    "\n",
    "                #reshape into ANN input size        \n",
    "                Z_all_eval = np.transpose(Z_all_eval, [1,0,2])\n",
    "                X_eval = np.reshape(Z_all_eval, [np.shape(Z_all_eval)[0], 1, np.shape(Z_all_eval)[1], np.shape(Z_all_eval)[2]])\n",
    "                X_eval = torch.from_numpy(X_eval).float()\n",
    "\n",
    "                #initilize ANN model\n",
    "                model = Model_current(chn_inp = X_eval.size()[-2], len_inp = X_eval.size()[-1], nf = int(config['nf']), ks = int(config['ks']) , \n",
    "                                  stride = int(config['stride']), act_f = config['act_fun'], nfc = int(config['nfc']))\n",
    "\n",
    "                for n_inits in range (0, num_inits):\n",
    "                    save_path = file_root_model + '\\\\ANN\\\\model_config_'+ line.split(' ')[0] + '_n_inits_'+ str(n_inits) +'_fold_' + str(fold) + '.pt'\n",
    "                    model.load_state_dict(torch.load(save_path))\n",
    "                    model.eval()\n",
    "\n",
    "                    #predictoin, sum up the output (probability of being class) predicted at each fold, tehn the class with the max probability if the class prediction\n",
    "                    out = model(X_eval)\n",
    "                    OUT = OUT + out\n",
    "\n",
    "                    #print out class precition at each fold\n",
    "                    pred = torch.argmax(out, dim = 1).numpy()\n",
    "                    #print (str(n_inits), np.average(calc_class_acc(pred, LABELS0, C_OVR)))\n",
    "                    if cohen_kappa_score(LABELS0, pred) > best_mod_kappa:\n",
    "                        best_model = [n_inits, fold]\n",
    "                        best_mod_acc_prod = np.average(calc_class_acc(pred, LABELS0, C_OVR))\n",
    "                        best_mod_kappa = cohen_kappa_score(LABELS0, pred)\n",
    "\n",
    "                    #pred_indi[fold].append(cohen_kappa_score(LABELS0, pred))\n",
    "\n",
    "\n",
    "            #final prediciotn using all trained ANNs   \n",
    "            PRED = torch.argmax(OUT, dim = 1).numpy()\n",
    "            acc_c = calc_class_acc(PRED, LABELS0, C_OVR)\n",
    "            print(sub_id, acc_c, np.average(acc_c))\n",
    "            kappa = cohen_kappa_score(LABELS0, PRED)\n",
    "\n",
    "            if to_save == 1:\n",
    "                filewrite.write(str(subject) + ', ')\n",
    "\n",
    "                for a in acc_c:\n",
    "                    filewrite.write(str(round(a*100,2)) + ', ')\n",
    "                filewrite.write(str(round(np.average(acc_c)*100, 2)) +' '+'('+str(round(kappa, 3))+')' +', ' + str(best_model[0])+'_'+str(best_model[1]) + '_'+ str(best_mod_acc_prod) + '(' + str(best_mod_kappa) + ')'  +'\\n')\n",
    "\n",
    "\n",
    "        if to_save == 1:\n",
    "            filewrite.close()"
   ]
  },
  {
   "cell_type": "code",
   "execution_count": 8,
   "metadata": {},
   "outputs": [],
   "source": [
    "Signal_lens_all = ['05_15', '10_20', '15_25', '20_30', '25_35', '30_40'] + ['05_25', '10_30', '15_35', '20_40']"
   ]
  },
  {
   "cell_type": "code",
   "execution_count": 9,
   "metadata": {},
   "outputs": [
    {
     "data": {
      "text/plain": [
       "['05_15',\n",
       " '10_20',\n",
       " '15_25',\n",
       " '20_30',\n",
       " '25_35',\n",
       " '30_40',\n",
       " '05_25',\n",
       " '10_30',\n",
       " '15_35',\n",
       " '20_40']"
      ]
     },
     "execution_count": 9,
     "metadata": {},
     "output_type": "execute_result"
    }
   ],
   "source": [
    "Signal_lens_all"
   ]
  },
  {
   "cell_type": "code",
   "execution_count": 11,
   "metadata": {},
   "outputs": [],
   "source": [
    "cv_root = 'E:\\\\Diamond\\\\own_expo\\\\pilot_test\\\\' + sub_id + '\\\\models\\\\carryover_4s_csp\\\\' \n",
    "Best_acc = []\n",
    "for signal_len in Signal_lens_all:\n",
    "    best_cv_file_path = cv_root + signal_len + '\\\\pt_100\\\\ANN\\\\best_config_val.txt'\n",
    "    Best_acc.append(get_best_cv_acc (best_cv_file_path))"
   ]
  },
  {
   "cell_type": "code",
   "execution_count": 12,
   "metadata": {},
   "outputs": [
    {
     "data": {
      "text/plain": [
       "'E:\\\\Diamond\\\\own_expo\\\\pilot_test\\\\s3\\\\models\\\\carryover_4s_csp\\\\'"
      ]
     },
     "execution_count": 12,
     "metadata": {},
     "output_type": "execute_result"
    }
   ],
   "source": [
    "cv_root"
   ]
  },
  {
   "cell_type": "code",
   "execution_count": 13,
   "metadata": {},
   "outputs": [],
   "source": [
    "def get_best_cv_acc (best_cv_file_path):\n",
    "    best_cv_file = open(best_cv_file_path, 'rb')\n",
    "    best_config = best_cv_file.readlines()\n",
    "    best_acc = float(str(best_config[0]).split(' ')[1])\n",
    "    best_cv_file.close()\n",
    "    return best_acc"
   ]
  },
  {
   "cell_type": "code",
   "execution_count": 14,
   "metadata": {},
   "outputs": [
    {
     "ename": "NameError",
     "evalue": "name 'best_acc' is not defined",
     "output_type": "error",
     "traceback": [
      "\u001b[1;31m---------------------------------------------------------------------------\u001b[0m",
      "\u001b[1;31mNameError\u001b[0m                                 Traceback (most recent call last)",
      "\u001b[1;32m<ipython-input-14-2dd9f00bafc2>\u001b[0m in \u001b[0;36m<module>\u001b[1;34m\u001b[0m\n\u001b[1;32m----> 1\u001b[1;33m \u001b[0mbest_acc\u001b[0m\u001b[1;33m\u001b[0m\u001b[1;33m\u001b[0m\u001b[0m\n\u001b[0m",
      "\u001b[1;31mNameError\u001b[0m: name 'best_acc' is not defined"
     ]
    }
   ],
   "source": [
    "best_acc"
   ]
  },
  {
   "cell_type": "code",
   "execution_count": 51,
   "metadata": {},
   "outputs": [
    {
     "data": {
      "text/plain": [
       "[0.5479999999999999,\n",
       " 0.6306666666666666,\n",
       " 0.5986666666666667,\n",
       " 0.556,\n",
       " 0.6133333333333334,\n",
       " 0.6146666666666667,\n",
       " 0.6986666666666668,\n",
       " 0.7253333333333333,\n",
       " 0.608,\n",
       " 0.66]"
      ]
     },
     "execution_count": 51,
     "metadata": {},
     "output_type": "execute_result"
    }
   ],
   "source": [
    "Best_acc"
   ]
  },
  {
   "cell_type": "code",
   "execution_count": 15,
   "metadata": {
    "scrolled": true
   },
   "outputs": [
    {
     "data": {
      "image/png": "[encoded data removed]",
      "text/plain": [
       "<Figure size 432x288 with 1 Axes>"
      ]
     },
     "metadata": {
      "needs_background": "light"
     },
     "output_type": "display_data"
    },
    {
     "data": {
      "image/png": "[encoded data removed]",
      "text/plain": [
       "<Figure size 432x288 with 1 Axes>"
      ]
     },
     "metadata": {
      "needs_background": "light"
     },
     "output_type": "display_data"
    }
   ],
   "source": [
    "\n",
    "locs = np.arange(1,len(Signal_lens_all) + 1)\n",
    "plt.plot(locs[0:-4], Best_acc[0:-4], 'b+')\n",
    "plt.xticks(locs[0:-4], Signal_lens_all[0:-4])\n",
    "plt.show()\n",
    "\n",
    "plt.plot(locs[0:4], Best_acc[-4:], 'r+')\n",
    "plt.xticks(locs[0:-4], Signal_lens_all[-4:])\n",
    "plt.show()\n",
    "\n",
    "#plt.vlines(6.5, 0.5, 0.72)\n"
   ]
  },
  {
   "cell_type": "code",
   "execution_count": 61,
   "metadata": {},
   "outputs": [
    {
     "data": {
      "text/plain": [
       "10"
      ]
     },
     "execution_count": 61,
     "metadata": {},
     "output_type": "execute_result"
    }
   ],
   "source": [
    "len(Best_acc)"
   ]
  },
  {
   "cell_type": "code",
   "execution_count": null,
   "metadata": {},
   "outputs": [],
   "source": []
  }
 ],
 "metadata": {
  "kernelspec": {
   "display_name": "Python 3",
   "language": "python",
   "name": "python3"
  },
  "language_info": {
   "codemirror_mode": {
    "name": "ipython",
    "version": 3
   },
   "file_extension": ".py",
   "mimetype": "text/x-python",
   "name": "python",
   "nbconvert_exporter": "python",
   "pygments_lexer": "ipython3",
   "version": "3.7.1"
  }
 },
 "nbformat": 4,
 "nbformat_minor": 2
}
